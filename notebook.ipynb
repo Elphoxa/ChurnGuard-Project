{
 "cells": [
  {
   "cell_type": "markdown",
   "metadata": {},
   "source": [
    "# ChurnGuard: Developing a Predictive Model for Customer Churn in African Telecom"
   ]
  },
  {
   "cell_type": "markdown",
   "metadata": {},
   "source": [
    "## Introduction\n",
    "\n",
    "Welcome to the ChurnGuard Project! In today's competitive telecommunications industry, customer retention is a critical factor for sustaining business success. Churn, the phenomenon of customers discontinuing services, poses a significant challenge for telecom providers worldwide. The ChurnGuard Project aims to tackle this challenge by developing a predictive model to determine the likelihood of a customer churning, specifically by ceasing to purchase airtime and data from our client, an African telecommunications company."
   ]
  },
  {
   "cell_type": "markdown",
   "metadata": {},
   "source": [
    "## Business Understanding\n",
    "\n",
    "For our African telecommunications client, reducing churn is essential for maintaining revenue streams and ensuring long-term profitability. Understanding the factors contributing to churn and accurately predicting which customers are at risk of leaving is paramount. By identifying at-risk customers early on, the telecom company can implement targeted retention strategies to prevent churn and foster customer loyalty.\n",
    "\n",
    "The key objective of the ChurnGuard Project is to develop a predictive model that accurately determines the likelihood of customer churn, specifically by ceasing to purchase airtime and data from our client, an African telecommunications company, based on historical customer data, including purchase patterns, usage behavior, demographics, and other relevant features. By leveraging machine learning techniques, the predictive model will analyze past customer behavior to identify patterns indicative of potential churn.\n",
    "\n",
    "The dataset includes 19 variables including 15 numeric variables and 04 categorical variables:\n",
    "\n",
    "* **user_id:** \t  Unique identifier for each customer.\n",
    "* **REGION:**   the location of each client\n",
    "* **TENURE:** \t  duration in the network\n",
    "* **MONTANT:** \ttop-up amount (Amount spent by the customer)\n",
    "* **FREQUENCE_RECH:** \tA number of times the customer refilled (Frequency of recharges by the customer.)\n",
    "* **REVENUE:**\tmonthly income of each client\n",
    "* **ARPU_SEGMENT:** \tincome over 90 days / 3\n",
    "* **FREQUENCE:** \tnumber of times the client has made an income\n",
    "* **DATA_VOLUME:** \tnumber of connections (i.e. Volume of data consumed by the customer)\n",
    "* **ON_NET:**\tinter expresso call\n",
    "* **ORANGE:**\tcall to Rrange network by the customer.\n",
    "* **TIGO:** \tcall to Tigo network by the customer.\n",
    "* **ZONE1:** \tcall to zones1 network by the customer.\n",
    "* **ZONE2:** \tcall to zones2 network by the customer.\n",
    "* **MRG:** \ta client who is going\n",
    "* **REGULARITY:** \tnumber of times the client is active for 90 days\n",
    "* **TOP_PACK:** \tthe most active packs\n",
    "* **FREQ_TOP_PACK:** \tnumber of times the client has activated the top pack packages (Frequency of the top package subscription)\n",
    "* **CHURN:** \tTarget variable indicating if the customer has churned (1) or not (0).\n"
   ]
  },
  {
   "cell_type": "markdown",
   "metadata": {},
   "source": [
    "## Hypothesis\n",
    "\n",
    "- **Null Hypothesis (H0):**\n",
    "\n",
    "There is no significant difference in churn rates between different geographic regions served by the African telecommunications company.\n",
    "\n",
    "- **Alternative Hypothesis (H1):**\n",
    "\n",
    "There is a significant difference in churn rates between different geographic regions served by the African telecommunications company."
   ]
  },
  {
   "cell_type": "markdown",
   "metadata": {},
   "source": [
    "## Business Questions\n",
    "\n",
    "1) What is the overall churn rate observed in the dataset.\n",
    "\n",
    "2) How does churn vary across different geographic regions served by the telecommunications company.\n",
    "\n",
    "3) What is the churn rate (proportion of churned customers) for each tenure category.\n",
    "\n",
    "4) Are customers who frequently activate specific top pack packages (TOP_PACK) less likely to churn, and can certain top packs be associated with higher customer retention rates?\n",
    "\n",
    "5) Do customers who have a higher number of on-net calls (ON_NET) exhibit lower churn rates, suggesting a correlation between on-net calling behavior and customer loyalty?\n",
    "\n",
    "6) Is there evidence to suggest that customers who regularly refill their accounts (FREQUENCE_RECH) have lower churn rates compared to those who refill less frequently, indicating a relationship between recharge frequency and churn propensity?\n",
    "\n",
    "7) Is there a correlation between the top-up amount (MONTANT) and churn rates, and do customers with higher or lower top-up amounts demonstrate different churn behaviors?"
   ]
  },
  {
   "cell_type": "markdown",
   "metadata": {},
   "source": [
    "## DATA UNDERSTANDING\n",
    "## Importation"
   ]
  },
  {
   "cell_type": "code",
   "execution_count": 11,
   "metadata": {},
   "outputs": [
    {
     "name": "stdout",
     "output_type": "stream",
     "text": [
      "Requirement already satisfied: pyodbc in c:\\users\\toshiba\\onedrive - azubi africa\\desktop\\azubi\\churn capestone project\\churnguard-project\\virtual_env\\lib\\site-packages (5.1.0)\n"
     ]
    },
    {
     "name": "stderr",
     "output_type": "stream",
     "text": [
      "\n",
      "[notice] A new release of pip available: 22.3.1 -> 24.0\n",
      "[notice] To update, run: python.exe -m pip install --upgrade pip\n"
     ]
    },
    {
     "name": "stdout",
     "output_type": "stream",
     "text": [
      "Collecting pandas\n",
      "  Downloading pandas-2.2.2-cp310-cp310-win_amd64.whl (11.6 MB)\n",
      "     ---------                                2.8/11.6 MB 17.1 kB/s eta 0:08:35\n"
     ]
    },
    {
     "name": "stderr",
     "output_type": "stream",
     "text": [
      "ERROR: Exception:\n",
      "Traceback (most recent call last):\n",
      "  File \"C:\\Users\\TOSHIBA\\OneDrive - Azubi Africa\\Desktop\\AZUBI\\Churn capestone project\\ChurnGuard-Project\\virtual_env\\lib\\site-packages\\pip\\_vendor\\urllib3\\response.py\", line 437, in _error_catcher\n",
      "    yield\n",
      "  File \"C:\\Users\\TOSHIBA\\OneDrive - Azubi Africa\\Desktop\\AZUBI\\Churn capestone project\\ChurnGuard-Project\\virtual_env\\lib\\site-packages\\pip\\_vendor\\urllib3\\response.py\", line 560, in read\n",
      "    data = self._fp_read(amt) if not fp_closed else b\"\"\n",
      "  File \"C:\\Users\\TOSHIBA\\OneDrive - Azubi Africa\\Desktop\\AZUBI\\Churn capestone project\\ChurnGuard-Project\\virtual_env\\lib\\site-packages\\pip\\_vendor\\urllib3\\response.py\", line 526, in _fp_read\n",
      "    return self._fp.read(amt) if amt is not None else self._fp.read()\n",
      "  File \"C:\\Users\\TOSHIBA\\OneDrive - Azubi Africa\\Desktop\\AZUBI\\Churn capestone project\\ChurnGuard-Project\\virtual_env\\lib\\site-packages\\pip\\_vendor\\cachecontrol\\filewrapper.py\", line 90, in read\n",
      "    data = self.__fp.read(amt)\n",
      "  File \"C:\\Users\\TOSHIBA\\AppData\\Local\\Programs\\Python\\Python310\\lib\\http\\client.py\", line 465, in read\n",
      "    s = self.fp.read(amt)\n",
      "  File \"C:\\Users\\TOSHIBA\\AppData\\Local\\Programs\\Python\\Python310\\lib\\socket.py\", line 705, in readinto\n",
      "    return self._sock.recv_into(b)\n",
      "  File \"C:\\Users\\TOSHIBA\\AppData\\Local\\Programs\\Python\\Python310\\lib\\ssl.py\", line 1274, in recv_into\n",
      "    return self.read(nbytes, buffer)\n",
      "  File \"C:\\Users\\TOSHIBA\\AppData\\Local\\Programs\\Python\\Python310\\lib\\ssl.py\", line 1130, in read\n",
      "    return self._sslobj.read(len, buffer)\n",
      "TimeoutError: The read operation timed out\n",
      "\n",
      "During handling of the above exception, another exception occurred:\n",
      "\n",
      "Traceback (most recent call last):\n",
      "  File \"C:\\Users\\TOSHIBA\\OneDrive - Azubi Africa\\Desktop\\AZUBI\\Churn capestone project\\ChurnGuard-Project\\virtual_env\\lib\\site-packages\\pip\\_internal\\cli\\base_command.py\", line 160, in exc_logging_wrapper\n",
      "    status = run_func(*args)\n",
      "  File \"C:\\Users\\TOSHIBA\\OneDrive - Azubi Africa\\Desktop\\AZUBI\\Churn capestone project\\ChurnGuard-Project\\virtual_env\\lib\\site-packages\\pip\\_internal\\cli\\req_command.py\", line 247, in wrapper\n",
      "    return func(self, options, args)\n",
      "  File \"C:\\Users\\TOSHIBA\\OneDrive - Azubi Africa\\Desktop\\AZUBI\\Churn capestone project\\ChurnGuard-Project\\virtual_env\\lib\\site-packages\\pip\\_internal\\commands\\install.py\", line 400, in run\n",
      "    requirement_set = resolver.resolve(\n",
      "  File \"C:\\Users\\TOSHIBA\\OneDrive - Azubi Africa\\Desktop\\AZUBI\\Churn capestone project\\ChurnGuard-Project\\virtual_env\\lib\\site-packages\\pip\\_internal\\resolution\\resolvelib\\resolver.py\", line 92, in resolve\n",
      "    result = self._result = resolver.resolve(\n",
      "  File \"C:\\Users\\TOSHIBA\\OneDrive - Azubi Africa\\Desktop\\AZUBI\\Churn capestone project\\ChurnGuard-Project\\virtual_env\\lib\\site-packages\\pip\\_vendor\\resolvelib\\resolvers.py\", line 481, in resolve\n",
      "    state = resolution.resolve(requirements, max_rounds=max_rounds)\n",
      "  File \"C:\\Users\\TOSHIBA\\OneDrive - Azubi Africa\\Desktop\\AZUBI\\Churn capestone project\\ChurnGuard-Project\\virtual_env\\lib\\site-packages\\pip\\_vendor\\resolvelib\\resolvers.py\", line 348, in resolve\n",
      "    self._add_to_criteria(self.state.criteria, r, parent=None)\n",
      "  File \"C:\\Users\\TOSHIBA\\OneDrive - Azubi Africa\\Desktop\\AZUBI\\Churn capestone project\\ChurnGuard-Project\\virtual_env\\lib\\site-packages\\pip\\_vendor\\resolvelib\\resolvers.py\", line 172, in _add_to_criteria\n",
      "    if not criterion.candidates:\n",
      "  File \"C:\\Users\\TOSHIBA\\OneDrive - Azubi Africa\\Desktop\\AZUBI\\Churn capestone project\\ChurnGuard-Project\\virtual_env\\lib\\site-packages\\pip\\_vendor\\resolvelib\\structs.py\", line 151, in __bool__\n",
      "    return bool(self._sequence)\n",
      "  File \"C:\\Users\\TOSHIBA\\OneDrive - Azubi Africa\\Desktop\\AZUBI\\Churn capestone project\\ChurnGuard-Project\\virtual_env\\lib\\site-packages\\pip\\_internal\\resolution\\resolvelib\\found_candidates.py\", line 155, in __bool__\n",
      "    return any(self)\n",
      "  File \"C:\\Users\\TOSHIBA\\OneDrive - Azubi Africa\\Desktop\\AZUBI\\Churn capestone project\\ChurnGuard-Project\\virtual_env\\lib\\site-packages\\pip\\_internal\\resolution\\resolvelib\\found_candidates.py\", line 143, in <genexpr>\n",
      "    return (c for c in iterator if id(c) not in self._incompatible_ids)\n",
      "  File \"C:\\Users\\TOSHIBA\\OneDrive - Azubi Africa\\Desktop\\AZUBI\\Churn capestone project\\ChurnGuard-Project\\virtual_env\\lib\\site-packages\\pip\\_internal\\resolution\\resolvelib\\found_candidates.py\", line 47, in _iter_built\n",
      "    candidate = func()\n",
      "  File \"C:\\Users\\TOSHIBA\\OneDrive - Azubi Africa\\Desktop\\AZUBI\\Churn capestone project\\ChurnGuard-Project\\virtual_env\\lib\\site-packages\\pip\\_internal\\resolution\\resolvelib\\factory.py\", line 206, in _make_candidate_from_link\n",
      "    self._link_candidate_cache[link] = LinkCandidate(\n",
      "  File \"C:\\Users\\TOSHIBA\\OneDrive - Azubi Africa\\Desktop\\AZUBI\\Churn capestone project\\ChurnGuard-Project\\virtual_env\\lib\\site-packages\\pip\\_internal\\resolution\\resolvelib\\candidates.py\", line 297, in __init__\n",
      "    super().__init__(\n",
      "  File \"C:\\Users\\TOSHIBA\\OneDrive - Azubi Africa\\Desktop\\AZUBI\\Churn capestone project\\ChurnGuard-Project\\virtual_env\\lib\\site-packages\\pip\\_internal\\resolution\\resolvelib\\candidates.py\", line 162, in __init__\n",
      "    self.dist = self._prepare()\n",
      "  File \"C:\\Users\\TOSHIBA\\OneDrive - Azubi Africa\\Desktop\\AZUBI\\Churn capestone project\\ChurnGuard-Project\\virtual_env\\lib\\site-packages\\pip\\_internal\\resolution\\resolvelib\\candidates.py\", line 231, in _prepare\n",
      "    dist = self._prepare_distribution()\n",
      "  File \"C:\\Users\\TOSHIBA\\OneDrive - Azubi Africa\\Desktop\\AZUBI\\Churn capestone project\\ChurnGuard-Project\\virtual_env\\lib\\site-packages\\pip\\_internal\\resolution\\resolvelib\\candidates.py\", line 308, in _prepare_distribution\n",
      "    return preparer.prepare_linked_requirement(self._ireq, parallel_builds=True)\n",
      "  File \"C:\\Users\\TOSHIBA\\OneDrive - Azubi Africa\\Desktop\\AZUBI\\Churn capestone project\\ChurnGuard-Project\\virtual_env\\lib\\site-packages\\pip\\_internal\\operations\\prepare.py\", line 491, in prepare_linked_requirement\n",
      "    return self._prepare_linked_requirement(req, parallel_builds)\n",
      "  File \"C:\\Users\\TOSHIBA\\OneDrive - Azubi Africa\\Desktop\\AZUBI\\Churn capestone project\\ChurnGuard-Project\\virtual_env\\lib\\site-packages\\pip\\_internal\\operations\\prepare.py\", line 536, in _prepare_linked_requirement\n",
      "    local_file = unpack_url(\n",
      "  File \"C:\\Users\\TOSHIBA\\OneDrive - Azubi Africa\\Desktop\\AZUBI\\Churn capestone project\\ChurnGuard-Project\\virtual_env\\lib\\site-packages\\pip\\_internal\\operations\\prepare.py\", line 166, in unpack_url\n",
      "    file = get_http_url(\n",
      "  File \"C:\\Users\\TOSHIBA\\OneDrive - Azubi Africa\\Desktop\\AZUBI\\Churn capestone project\\ChurnGuard-Project\\virtual_env\\lib\\site-packages\\pip\\_internal\\operations\\prepare.py\", line 107, in get_http_url\n",
      "    from_path, content_type = download(link, temp_dir.path)\n",
      "  File \"C:\\Users\\TOSHIBA\\OneDrive - Azubi Africa\\Desktop\\AZUBI\\Churn capestone project\\ChurnGuard-Project\\virtual_env\\lib\\site-packages\\pip\\_internal\\network\\download.py\", line 147, in __call__\n",
      "    for chunk in chunks:\n",
      "  File \"C:\\Users\\TOSHIBA\\OneDrive - Azubi Africa\\Desktop\\AZUBI\\Churn capestone project\\ChurnGuard-Project\\virtual_env\\lib\\site-packages\\pip\\_internal\\cli\\progress_bars.py\", line 53, in _rich_progress_bar\n",
      "    for chunk in iterable:\n",
      "  File \"C:\\Users\\TOSHIBA\\OneDrive - Azubi Africa\\Desktop\\AZUBI\\Churn capestone project\\ChurnGuard-Project\\virtual_env\\lib\\site-packages\\pip\\_internal\\network\\utils.py\", line 63, in response_chunks\n",
      "    for chunk in response.raw.stream(\n",
      "  File \"C:\\Users\\TOSHIBA\\OneDrive - Azubi Africa\\Desktop\\AZUBI\\Churn capestone project\\ChurnGuard-Project\\virtual_env\\lib\\site-packages\\pip\\_vendor\\urllib3\\response.py\", line 621, in stream\n",
      "    data = self.read(amt=amt, decode_content=decode_content)\n",
      "  File \"C:\\Users\\TOSHIBA\\OneDrive - Azubi Africa\\Desktop\\AZUBI\\Churn capestone project\\ChurnGuard-Project\\virtual_env\\lib\\site-packages\\pip\\_vendor\\urllib3\\response.py\", line 559, in read\n",
      "    with self._error_catcher():\n",
      "  File \"C:\\Users\\TOSHIBA\\AppData\\Local\\Programs\\Python\\Python310\\lib\\contextlib.py\", line 153, in __exit__\n",
      "    self.gen.throw(typ, value, traceback)\n",
      "  File \"C:\\Users\\TOSHIBA\\OneDrive - Azubi Africa\\Desktop\\AZUBI\\Churn capestone project\\ChurnGuard-Project\\virtual_env\\lib\\site-packages\\pip\\_vendor\\urllib3\\response.py\", line 442, in _error_catcher\n",
      "    raise ReadTimeoutError(self._pool, None, \"Read timed out.\")\n",
      "pip._vendor.urllib3.exceptions.ReadTimeoutError: HTTPSConnectionPool(host='files.pythonhosted.org', port=443): Read timed out.\n",
      "\n",
      "[notice] A new release of pip available: 22.3.1 -> 24.0\n",
      "[notice] To update, run: python.exe -m pip install --upgrade pip\n"
     ]
    },
    {
     "name": "stdout",
     "output_type": "stream",
     "text": [
      "Collecting catboost\n",
      "  Downloading catboost-1.2.5-cp310-cp310-win_amd64.whl (101.1 MB)\n",
      "     -                                       3.4/101.1 MB 20.6 kB/s eta 1:18:56\n"
     ]
    },
    {
     "name": "stderr",
     "output_type": "stream",
     "text": [
      "ERROR: Exception:\n",
      "Traceback (most recent call last):\n",
      "  File \"C:\\Users\\TOSHIBA\\OneDrive - Azubi Africa\\Desktop\\AZUBI\\Churn capestone project\\ChurnGuard-Project\\virtual_env\\lib\\site-packages\\pip\\_vendor\\urllib3\\response.py\", line 437, in _error_catcher\n",
      "    yield\n",
      "  File \"C:\\Users\\TOSHIBA\\OneDrive - Azubi Africa\\Desktop\\AZUBI\\Churn capestone project\\ChurnGuard-Project\\virtual_env\\lib\\site-packages\\pip\\_vendor\\urllib3\\response.py\", line 560, in read\n",
      "    data = self._fp_read(amt) if not fp_closed else b\"\"\n",
      "  File \"C:\\Users\\TOSHIBA\\OneDrive - Azubi Africa\\Desktop\\AZUBI\\Churn capestone project\\ChurnGuard-Project\\virtual_env\\lib\\site-packages\\pip\\_vendor\\urllib3\\response.py\", line 526, in _fp_read\n",
      "    return self._fp.read(amt) if amt is not None else self._fp.read()\n",
      "  File \"C:\\Users\\TOSHIBA\\OneDrive - Azubi Africa\\Desktop\\AZUBI\\Churn capestone project\\ChurnGuard-Project\\virtual_env\\lib\\site-packages\\pip\\_vendor\\cachecontrol\\filewrapper.py\", line 90, in read\n",
      "    data = self.__fp.read(amt)\n",
      "  File \"C:\\Users\\TOSHIBA\\AppData\\Local\\Programs\\Python\\Python310\\lib\\http\\client.py\", line 465, in read\n",
      "    s = self.fp.read(amt)\n",
      "  File \"C:\\Users\\TOSHIBA\\AppData\\Local\\Programs\\Python\\Python310\\lib\\socket.py\", line 705, in readinto\n",
      "    return self._sock.recv_into(b)\n",
      "  File \"C:\\Users\\TOSHIBA\\AppData\\Local\\Programs\\Python\\Python310\\lib\\ssl.py\", line 1274, in recv_into\n",
      "    return self.read(nbytes, buffer)\n",
      "  File \"C:\\Users\\TOSHIBA\\AppData\\Local\\Programs\\Python\\Python310\\lib\\ssl.py\", line 1130, in read\n",
      "    return self._sslobj.read(len, buffer)\n",
      "TimeoutError: The read operation timed out\n",
      "\n",
      "During handling of the above exception, another exception occurred:\n",
      "\n",
      "Traceback (most recent call last):\n",
      "  File \"C:\\Users\\TOSHIBA\\OneDrive - Azubi Africa\\Desktop\\AZUBI\\Churn capestone project\\ChurnGuard-Project\\virtual_env\\lib\\site-packages\\pip\\_internal\\cli\\base_command.py\", line 160, in exc_logging_wrapper\n",
      "    status = run_func(*args)\n",
      "  File \"C:\\Users\\TOSHIBA\\OneDrive - Azubi Africa\\Desktop\\AZUBI\\Churn capestone project\\ChurnGuard-Project\\virtual_env\\lib\\site-packages\\pip\\_internal\\cli\\req_command.py\", line 247, in wrapper\n",
      "    return func(self, options, args)\n",
      "  File \"C:\\Users\\TOSHIBA\\OneDrive - Azubi Africa\\Desktop\\AZUBI\\Churn capestone project\\ChurnGuard-Project\\virtual_env\\lib\\site-packages\\pip\\_internal\\commands\\install.py\", line 400, in run\n",
      "    requirement_set = resolver.resolve(\n",
      "  File \"C:\\Users\\TOSHIBA\\OneDrive - Azubi Africa\\Desktop\\AZUBI\\Churn capestone project\\ChurnGuard-Project\\virtual_env\\lib\\site-packages\\pip\\_internal\\resolution\\resolvelib\\resolver.py\", line 92, in resolve\n",
      "    result = self._result = resolver.resolve(\n",
      "  File \"C:\\Users\\TOSHIBA\\OneDrive - Azubi Africa\\Desktop\\AZUBI\\Churn capestone project\\ChurnGuard-Project\\virtual_env\\lib\\site-packages\\pip\\_vendor\\resolvelib\\resolvers.py\", line 481, in resolve\n",
      "    state = resolution.resolve(requirements, max_rounds=max_rounds)\n",
      "  File \"C:\\Users\\TOSHIBA\\OneDrive - Azubi Africa\\Desktop\\AZUBI\\Churn capestone project\\ChurnGuard-Project\\virtual_env\\lib\\site-packages\\pip\\_vendor\\resolvelib\\resolvers.py\", line 348, in resolve\n",
      "    self._add_to_criteria(self.state.criteria, r, parent=None)\n",
      "  File \"C:\\Users\\TOSHIBA\\OneDrive - Azubi Africa\\Desktop\\AZUBI\\Churn capestone project\\ChurnGuard-Project\\virtual_env\\lib\\site-packages\\pip\\_vendor\\resolvelib\\resolvers.py\", line 172, in _add_to_criteria\n",
      "    if not criterion.candidates:\n",
      "  File \"C:\\Users\\TOSHIBA\\OneDrive - Azubi Africa\\Desktop\\AZUBI\\Churn capestone project\\ChurnGuard-Project\\virtual_env\\lib\\site-packages\\pip\\_vendor\\resolvelib\\structs.py\", line 151, in __bool__\n",
      "    return bool(self._sequence)\n",
      "  File \"C:\\Users\\TOSHIBA\\OneDrive - Azubi Africa\\Desktop\\AZUBI\\Churn capestone project\\ChurnGuard-Project\\virtual_env\\lib\\site-packages\\pip\\_internal\\resolution\\resolvelib\\found_candidates.py\", line 155, in __bool__\n",
      "    return any(self)\n",
      "  File \"C:\\Users\\TOSHIBA\\OneDrive - Azubi Africa\\Desktop\\AZUBI\\Churn capestone project\\ChurnGuard-Project\\virtual_env\\lib\\site-packages\\pip\\_internal\\resolution\\resolvelib\\found_candidates.py\", line 143, in <genexpr>\n",
      "    return (c for c in iterator if id(c) not in self._incompatible_ids)\n",
      "  File \"C:\\Users\\TOSHIBA\\OneDrive - Azubi Africa\\Desktop\\AZUBI\\Churn capestone project\\ChurnGuard-Project\\virtual_env\\lib\\site-packages\\pip\\_internal\\resolution\\resolvelib\\found_candidates.py\", line 47, in _iter_built\n",
      "    candidate = func()\n",
      "  File \"C:\\Users\\TOSHIBA\\OneDrive - Azubi Africa\\Desktop\\AZUBI\\Churn capestone project\\ChurnGuard-Project\\virtual_env\\lib\\site-packages\\pip\\_internal\\resolution\\resolvelib\\factory.py\", line 206, in _make_candidate_from_link\n",
      "    self._link_candidate_cache[link] = LinkCandidate(\n",
      "  File \"C:\\Users\\TOSHIBA\\OneDrive - Azubi Africa\\Desktop\\AZUBI\\Churn capestone project\\ChurnGuard-Project\\virtual_env\\lib\\site-packages\\pip\\_internal\\resolution\\resolvelib\\candidates.py\", line 297, in __init__\n",
      "    super().__init__(\n",
      "  File \"C:\\Users\\TOSHIBA\\OneDrive - Azubi Africa\\Desktop\\AZUBI\\Churn capestone project\\ChurnGuard-Project\\virtual_env\\lib\\site-packages\\pip\\_internal\\resolution\\resolvelib\\candidates.py\", line 162, in __init__\n",
      "    self.dist = self._prepare()\n",
      "  File \"C:\\Users\\TOSHIBA\\OneDrive - Azubi Africa\\Desktop\\AZUBI\\Churn capestone project\\ChurnGuard-Project\\virtual_env\\lib\\site-packages\\pip\\_internal\\resolution\\resolvelib\\candidates.py\", line 231, in _prepare\n",
      "    dist = self._prepare_distribution()\n",
      "  File \"C:\\Users\\TOSHIBA\\OneDrive - Azubi Africa\\Desktop\\AZUBI\\Churn capestone project\\ChurnGuard-Project\\virtual_env\\lib\\site-packages\\pip\\_internal\\resolution\\resolvelib\\candidates.py\", line 308, in _prepare_distribution\n",
      "    return preparer.prepare_linked_requirement(self._ireq, parallel_builds=True)\n",
      "  File \"C:\\Users\\TOSHIBA\\OneDrive - Azubi Africa\\Desktop\\AZUBI\\Churn capestone project\\ChurnGuard-Project\\virtual_env\\lib\\site-packages\\pip\\_internal\\operations\\prepare.py\", line 491, in prepare_linked_requirement\n",
      "    return self._prepare_linked_requirement(req, parallel_builds)\n",
      "  File \"C:\\Users\\TOSHIBA\\OneDrive - Azubi Africa\\Desktop\\AZUBI\\Churn capestone project\\ChurnGuard-Project\\virtual_env\\lib\\site-packages\\pip\\_internal\\operations\\prepare.py\", line 536, in _prepare_linked_requirement\n",
      "    local_file = unpack_url(\n",
      "  File \"C:\\Users\\TOSHIBA\\OneDrive - Azubi Africa\\Desktop\\AZUBI\\Churn capestone project\\ChurnGuard-Project\\virtual_env\\lib\\site-packages\\pip\\_internal\\operations\\prepare.py\", line 166, in unpack_url\n",
      "    file = get_http_url(\n",
      "  File \"C:\\Users\\TOSHIBA\\OneDrive - Azubi Africa\\Desktop\\AZUBI\\Churn capestone project\\ChurnGuard-Project\\virtual_env\\lib\\site-packages\\pip\\_internal\\operations\\prepare.py\", line 107, in get_http_url\n",
      "    from_path, content_type = download(link, temp_dir.path)\n",
      "  File \"C:\\Users\\TOSHIBA\\OneDrive - Azubi Africa\\Desktop\\AZUBI\\Churn capestone project\\ChurnGuard-Project\\virtual_env\\lib\\site-packages\\pip\\_internal\\network\\download.py\", line 147, in __call__\n",
      "    for chunk in chunks:\n",
      "  File \"C:\\Users\\TOSHIBA\\OneDrive - Azubi Africa\\Desktop\\AZUBI\\Churn capestone project\\ChurnGuard-Project\\virtual_env\\lib\\site-packages\\pip\\_internal\\cli\\progress_bars.py\", line 53, in _rich_progress_bar\n",
      "    for chunk in iterable:\n",
      "  File \"C:\\Users\\TOSHIBA\\OneDrive - Azubi Africa\\Desktop\\AZUBI\\Churn capestone project\\ChurnGuard-Project\\virtual_env\\lib\\site-packages\\pip\\_internal\\network\\utils.py\", line 63, in response_chunks\n",
      "    for chunk in response.raw.stream(\n",
      "  File \"C:\\Users\\TOSHIBA\\OneDrive - Azubi Africa\\Desktop\\AZUBI\\Churn capestone project\\ChurnGuard-Project\\virtual_env\\lib\\site-packages\\pip\\_vendor\\urllib3\\response.py\", line 621, in stream\n",
      "    data = self.read(amt=amt, decode_content=decode_content)\n",
      "  File \"C:\\Users\\TOSHIBA\\OneDrive - Azubi Africa\\Desktop\\AZUBI\\Churn capestone project\\ChurnGuard-Project\\virtual_env\\lib\\site-packages\\pip\\_vendor\\urllib3\\response.py\", line 559, in read\n",
      "    with self._error_catcher():\n",
      "  File \"C:\\Users\\TOSHIBA\\AppData\\Local\\Programs\\Python\\Python310\\lib\\contextlib.py\", line 153, in __exit__\n",
      "    self.gen.throw(typ, value, traceback)\n",
      "  File \"C:\\Users\\TOSHIBA\\OneDrive - Azubi Africa\\Desktop\\AZUBI\\Churn capestone project\\ChurnGuard-Project\\virtual_env\\lib\\site-packages\\pip\\_vendor\\urllib3\\response.py\", line 442, in _error_catcher\n",
      "    raise ReadTimeoutError(self._pool, None, \"Read timed out.\")\n",
      "pip._vendor.urllib3.exceptions.ReadTimeoutError: HTTPSConnectionPool(host='files.pythonhosted.org', port=443): Read timed out.\n",
      "\n",
      "[notice] A new release of pip available: 22.3.1 -> 24.0\n",
      "[notice] To update, run: python.exe -m pip install --upgrade pip\n"
     ]
    },
    {
     "name": "stdout",
     "output_type": "stream",
     "text": [
      "Collecting xgboost\n",
      "  Downloading xgboost-2.0.3-py3-none-win_amd64.whl (99.8 MB)\n",
      "     -----                                   13.3/99.8 MB 19.4 kB/s eta 1:14:17\n"
     ]
    },
    {
     "name": "stderr",
     "output_type": "stream",
     "text": [
      "ERROR: Exception:\n",
      "Traceback (most recent call last):\n",
      "  File \"C:\\Users\\TOSHIBA\\OneDrive - Azubi Africa\\Desktop\\AZUBI\\Churn capestone project\\ChurnGuard-Project\\virtual_env\\lib\\site-packages\\pip\\_vendor\\urllib3\\response.py\", line 437, in _error_catcher\n",
      "    yield\n",
      "  File \"C:\\Users\\TOSHIBA\\OneDrive - Azubi Africa\\Desktop\\AZUBI\\Churn capestone project\\ChurnGuard-Project\\virtual_env\\lib\\site-packages\\pip\\_vendor\\urllib3\\response.py\", line 560, in read\n",
      "    data = self._fp_read(amt) if not fp_closed else b\"\"\n",
      "  File \"C:\\Users\\TOSHIBA\\OneDrive - Azubi Africa\\Desktop\\AZUBI\\Churn capestone project\\ChurnGuard-Project\\virtual_env\\lib\\site-packages\\pip\\_vendor\\urllib3\\response.py\", line 526, in _fp_read\n",
      "    return self._fp.read(amt) if amt is not None else self._fp.read()\n",
      "  File \"C:\\Users\\TOSHIBA\\OneDrive - Azubi Africa\\Desktop\\AZUBI\\Churn capestone project\\ChurnGuard-Project\\virtual_env\\lib\\site-packages\\pip\\_vendor\\cachecontrol\\filewrapper.py\", line 90, in read\n",
      "    data = self.__fp.read(amt)\n",
      "  File \"C:\\Users\\TOSHIBA\\AppData\\Local\\Programs\\Python\\Python310\\lib\\http\\client.py\", line 465, in read\n",
      "    s = self.fp.read(amt)\n",
      "  File \"C:\\Users\\TOSHIBA\\AppData\\Local\\Programs\\Python\\Python310\\lib\\socket.py\", line 705, in readinto\n",
      "    return self._sock.recv_into(b)\n",
      "  File \"C:\\Users\\TOSHIBA\\AppData\\Local\\Programs\\Python\\Python310\\lib\\ssl.py\", line 1274, in recv_into\n",
      "    return self.read(nbytes, buffer)\n",
      "  File \"C:\\Users\\TOSHIBA\\AppData\\Local\\Programs\\Python\\Python310\\lib\\ssl.py\", line 1130, in read\n",
      "    return self._sslobj.read(len, buffer)\n",
      "TimeoutError: The read operation timed out\n",
      "\n",
      "During handling of the above exception, another exception occurred:\n",
      "\n",
      "Traceback (most recent call last):\n",
      "  File \"C:\\Users\\TOSHIBA\\OneDrive - Azubi Africa\\Desktop\\AZUBI\\Churn capestone project\\ChurnGuard-Project\\virtual_env\\lib\\site-packages\\pip\\_internal\\cli\\base_command.py\", line 160, in exc_logging_wrapper\n",
      "    status = run_func(*args)\n",
      "  File \"C:\\Users\\TOSHIBA\\OneDrive - Azubi Africa\\Desktop\\AZUBI\\Churn capestone project\\ChurnGuard-Project\\virtual_env\\lib\\site-packages\\pip\\_internal\\cli\\req_command.py\", line 247, in wrapper\n",
      "    return func(self, options, args)\n",
      "  File \"C:\\Users\\TOSHIBA\\OneDrive - Azubi Africa\\Desktop\\AZUBI\\Churn capestone project\\ChurnGuard-Project\\virtual_env\\lib\\site-packages\\pip\\_internal\\commands\\install.py\", line 400, in run\n",
      "    requirement_set = resolver.resolve(\n",
      "  File \"C:\\Users\\TOSHIBA\\OneDrive - Azubi Africa\\Desktop\\AZUBI\\Churn capestone project\\ChurnGuard-Project\\virtual_env\\lib\\site-packages\\pip\\_internal\\resolution\\resolvelib\\resolver.py\", line 92, in resolve\n",
      "    result = self._result = resolver.resolve(\n",
      "  File \"C:\\Users\\TOSHIBA\\OneDrive - Azubi Africa\\Desktop\\AZUBI\\Churn capestone project\\ChurnGuard-Project\\virtual_env\\lib\\site-packages\\pip\\_vendor\\resolvelib\\resolvers.py\", line 481, in resolve\n",
      "    state = resolution.resolve(requirements, max_rounds=max_rounds)\n",
      "  File \"C:\\Users\\TOSHIBA\\OneDrive - Azubi Africa\\Desktop\\AZUBI\\Churn capestone project\\ChurnGuard-Project\\virtual_env\\lib\\site-packages\\pip\\_vendor\\resolvelib\\resolvers.py\", line 348, in resolve\n",
      "    self._add_to_criteria(self.state.criteria, r, parent=None)\n",
      "  File \"C:\\Users\\TOSHIBA\\OneDrive - Azubi Africa\\Desktop\\AZUBI\\Churn capestone project\\ChurnGuard-Project\\virtual_env\\lib\\site-packages\\pip\\_vendor\\resolvelib\\resolvers.py\", line 172, in _add_to_criteria\n",
      "    if not criterion.candidates:\n",
      "  File \"C:\\Users\\TOSHIBA\\OneDrive - Azubi Africa\\Desktop\\AZUBI\\Churn capestone project\\ChurnGuard-Project\\virtual_env\\lib\\site-packages\\pip\\_vendor\\resolvelib\\structs.py\", line 151, in __bool__\n",
      "    return bool(self._sequence)\n",
      "  File \"C:\\Users\\TOSHIBA\\OneDrive - Azubi Africa\\Desktop\\AZUBI\\Churn capestone project\\ChurnGuard-Project\\virtual_env\\lib\\site-packages\\pip\\_internal\\resolution\\resolvelib\\found_candidates.py\", line 155, in __bool__\n",
      "    return any(self)\n",
      "  File \"C:\\Users\\TOSHIBA\\OneDrive - Azubi Africa\\Desktop\\AZUBI\\Churn capestone project\\ChurnGuard-Project\\virtual_env\\lib\\site-packages\\pip\\_internal\\resolution\\resolvelib\\found_candidates.py\", line 143, in <genexpr>\n",
      "    return (c for c in iterator if id(c) not in self._incompatible_ids)\n",
      "  File \"C:\\Users\\TOSHIBA\\OneDrive - Azubi Africa\\Desktop\\AZUBI\\Churn capestone project\\ChurnGuard-Project\\virtual_env\\lib\\site-packages\\pip\\_internal\\resolution\\resolvelib\\found_candidates.py\", line 47, in _iter_built\n",
      "    candidate = func()\n",
      "  File \"C:\\Users\\TOSHIBA\\OneDrive - Azubi Africa\\Desktop\\AZUBI\\Churn capestone project\\ChurnGuard-Project\\virtual_env\\lib\\site-packages\\pip\\_internal\\resolution\\resolvelib\\factory.py\", line 206, in _make_candidate_from_link\n",
      "    self._link_candidate_cache[link] = LinkCandidate(\n",
      "  File \"C:\\Users\\TOSHIBA\\OneDrive - Azubi Africa\\Desktop\\AZUBI\\Churn capestone project\\ChurnGuard-Project\\virtual_env\\lib\\site-packages\\pip\\_internal\\resolution\\resolvelib\\candidates.py\", line 297, in __init__\n",
      "    super().__init__(\n",
      "  File \"C:\\Users\\TOSHIBA\\OneDrive - Azubi Africa\\Desktop\\AZUBI\\Churn capestone project\\ChurnGuard-Project\\virtual_env\\lib\\site-packages\\pip\\_internal\\resolution\\resolvelib\\candidates.py\", line 162, in __init__\n",
      "    self.dist = self._prepare()\n",
      "  File \"C:\\Users\\TOSHIBA\\OneDrive - Azubi Africa\\Desktop\\AZUBI\\Churn capestone project\\ChurnGuard-Project\\virtual_env\\lib\\site-packages\\pip\\_internal\\resolution\\resolvelib\\candidates.py\", line 231, in _prepare\n",
      "    dist = self._prepare_distribution()\n",
      "  File \"C:\\Users\\TOSHIBA\\OneDrive - Azubi Africa\\Desktop\\AZUBI\\Churn capestone project\\ChurnGuard-Project\\virtual_env\\lib\\site-packages\\pip\\_internal\\resolution\\resolvelib\\candidates.py\", line 308, in _prepare_distribution\n",
      "    return preparer.prepare_linked_requirement(self._ireq, parallel_builds=True)\n",
      "  File \"C:\\Users\\TOSHIBA\\OneDrive - Azubi Africa\\Desktop\\AZUBI\\Churn capestone project\\ChurnGuard-Project\\virtual_env\\lib\\site-packages\\pip\\_internal\\operations\\prepare.py\", line 491, in prepare_linked_requirement\n",
      "    return self._prepare_linked_requirement(req, parallel_builds)\n",
      "  File \"C:\\Users\\TOSHIBA\\OneDrive - Azubi Africa\\Desktop\\AZUBI\\Churn capestone project\\ChurnGuard-Project\\virtual_env\\lib\\site-packages\\pip\\_internal\\operations\\prepare.py\", line 536, in _prepare_linked_requirement\n",
      "    local_file = unpack_url(\n",
      "  File \"C:\\Users\\TOSHIBA\\OneDrive - Azubi Africa\\Desktop\\AZUBI\\Churn capestone project\\ChurnGuard-Project\\virtual_env\\lib\\site-packages\\pip\\_internal\\operations\\prepare.py\", line 166, in unpack_url\n",
      "    file = get_http_url(\n",
      "  File \"C:\\Users\\TOSHIBA\\OneDrive - Azubi Africa\\Desktop\\AZUBI\\Churn capestone project\\ChurnGuard-Project\\virtual_env\\lib\\site-packages\\pip\\_internal\\operations\\prepare.py\", line 107, in get_http_url\n",
      "    from_path, content_type = download(link, temp_dir.path)\n",
      "  File \"C:\\Users\\TOSHIBA\\OneDrive - Azubi Africa\\Desktop\\AZUBI\\Churn capestone project\\ChurnGuard-Project\\virtual_env\\lib\\site-packages\\pip\\_internal\\network\\download.py\", line 147, in __call__\n",
      "    for chunk in chunks:\n",
      "  File \"C:\\Users\\TOSHIBA\\OneDrive - Azubi Africa\\Desktop\\AZUBI\\Churn capestone project\\ChurnGuard-Project\\virtual_env\\lib\\site-packages\\pip\\_internal\\cli\\progress_bars.py\", line 53, in _rich_progress_bar\n",
      "    for chunk in iterable:\n",
      "  File \"C:\\Users\\TOSHIBA\\OneDrive - Azubi Africa\\Desktop\\AZUBI\\Churn capestone project\\ChurnGuard-Project\\virtual_env\\lib\\site-packages\\pip\\_internal\\network\\utils.py\", line 63, in response_chunks\n",
      "    for chunk in response.raw.stream(\n",
      "  File \"C:\\Users\\TOSHIBA\\OneDrive - Azubi Africa\\Desktop\\AZUBI\\Churn capestone project\\ChurnGuard-Project\\virtual_env\\lib\\site-packages\\pip\\_vendor\\urllib3\\response.py\", line 621, in stream\n",
      "    data = self.read(amt=amt, decode_content=decode_content)\n",
      "  File \"C:\\Users\\TOSHIBA\\OneDrive - Azubi Africa\\Desktop\\AZUBI\\Churn capestone project\\ChurnGuard-Project\\virtual_env\\lib\\site-packages\\pip\\_vendor\\urllib3\\response.py\", line 559, in read\n",
      "    with self._error_catcher():\n",
      "  File \"C:\\Users\\TOSHIBA\\AppData\\Local\\Programs\\Python\\Python310\\lib\\contextlib.py\", line 153, in __exit__\n",
      "    self.gen.throw(typ, value, traceback)\n",
      "  File \"C:\\Users\\TOSHIBA\\OneDrive - Azubi Africa\\Desktop\\AZUBI\\Churn capestone project\\ChurnGuard-Project\\virtual_env\\lib\\site-packages\\pip\\_vendor\\urllib3\\response.py\", line 442, in _error_catcher\n",
      "    raise ReadTimeoutError(self._pool, None, \"Read timed out.\")\n",
      "pip._vendor.urllib3.exceptions.ReadTimeoutError: HTTPSConnectionPool(host='files.pythonhosted.org', port=443): Read timed out.\n",
      "\n",
      "[notice] A new release of pip available: 22.3.1 -> 24.0\n",
      "[notice] To update, run: python.exe -m pip install --upgrade pip\n"
     ]
    },
    {
     "name": "stdout",
     "output_type": "stream",
     "text": [
      "Collecting pyarrow\n",
      "  Downloading pyarrow-16.0.0-cp310-cp310-win_amd64.whl (25.9 MB)\n",
      "     -                                        0.8/25.9 MB 17.0 kB/s eta 0:24:35\n"
     ]
    },
    {
     "name": "stderr",
     "output_type": "stream",
     "text": [
      "WARNING: Retrying (Retry(total=4, connect=None, read=None, redirect=None, status=None)) after connection broken by 'ReadTimeoutError(\"HTTPSConnectionPool(host='pypi.org', port=443): Read timed out. (read timeout=15)\")': /simple/pyarrow/\n",
      "  WARNING: Retrying (Retry(total=4, connect=None, read=None, redirect=None, status=None)) after connection broken by 'ReadTimeoutError(\"HTTPSConnectionPool(host='files.pythonhosted.org', port=443): Read timed out. (read timeout=15)\")': /packages/95/7a/36243efd5a9c1a0ac1146fa69044f4676eac13a162c8fb388869262330fe/pyarrow-16.0.0-cp310-cp310-win_amd64.whl\n",
      "ERROR: Exception:\n",
      "Traceback (most recent call last):\n",
      "  File \"C:\\Users\\TOSHIBA\\OneDrive - Azubi Africa\\Desktop\\AZUBI\\Churn capestone project\\ChurnGuard-Project\\virtual_env\\lib\\site-packages\\pip\\_vendor\\urllib3\\response.py\", line 437, in _error_catcher\n",
      "    yield\n",
      "  File \"C:\\Users\\TOSHIBA\\OneDrive - Azubi Africa\\Desktop\\AZUBI\\Churn capestone project\\ChurnGuard-Project\\virtual_env\\lib\\site-packages\\pip\\_vendor\\urllib3\\response.py\", line 560, in read\n",
      "    data = self._fp_read(amt) if not fp_closed else b\"\"\n",
      "  File \"C:\\Users\\TOSHIBA\\OneDrive - Azubi Africa\\Desktop\\AZUBI\\Churn capestone project\\ChurnGuard-Project\\virtual_env\\lib\\site-packages\\pip\\_vendor\\urllib3\\response.py\", line 526, in _fp_read\n",
      "    return self._fp.read(amt) if amt is not None else self._fp.read()\n",
      "  File \"C:\\Users\\TOSHIBA\\OneDrive - Azubi Africa\\Desktop\\AZUBI\\Churn capestone project\\ChurnGuard-Project\\virtual_env\\lib\\site-packages\\pip\\_vendor\\cachecontrol\\filewrapper.py\", line 90, in read\n",
      "    data = self.__fp.read(amt)\n",
      "  File \"C:\\Users\\TOSHIBA\\AppData\\Local\\Programs\\Python\\Python310\\lib\\http\\client.py\", line 465, in read\n",
      "    s = self.fp.read(amt)\n",
      "  File \"C:\\Users\\TOSHIBA\\AppData\\Local\\Programs\\Python\\Python310\\lib\\socket.py\", line 705, in readinto\n",
      "    return self._sock.recv_into(b)\n",
      "  File \"C:\\Users\\TOSHIBA\\AppData\\Local\\Programs\\Python\\Python310\\lib\\ssl.py\", line 1274, in recv_into\n",
      "    return self.read(nbytes, buffer)\n",
      "  File \"C:\\Users\\TOSHIBA\\AppData\\Local\\Programs\\Python\\Python310\\lib\\ssl.py\", line 1130, in read\n",
      "    return self._sslobj.read(len, buffer)\n",
      "TimeoutError: The read operation timed out\n",
      "\n",
      "During handling of the above exception, another exception occurred:\n",
      "\n",
      "Traceback (most recent call last):\n",
      "  File \"C:\\Users\\TOSHIBA\\OneDrive - Azubi Africa\\Desktop\\AZUBI\\Churn capestone project\\ChurnGuard-Project\\virtual_env\\lib\\site-packages\\pip\\_internal\\cli\\base_command.py\", line 160, in exc_logging_wrapper\n",
      "    status = run_func(*args)\n",
      "  File \"C:\\Users\\TOSHIBA\\OneDrive - Azubi Africa\\Desktop\\AZUBI\\Churn capestone project\\ChurnGuard-Project\\virtual_env\\lib\\site-packages\\pip\\_internal\\cli\\req_command.py\", line 247, in wrapper\n",
      "    return func(self, options, args)\n",
      "  File \"C:\\Users\\TOSHIBA\\OneDrive - Azubi Africa\\Desktop\\AZUBI\\Churn capestone project\\ChurnGuard-Project\\virtual_env\\lib\\site-packages\\pip\\_internal\\commands\\install.py\", line 400, in run\n",
      "    requirement_set = resolver.resolve(\n",
      "  File \"C:\\Users\\TOSHIBA\\OneDrive - Azubi Africa\\Desktop\\AZUBI\\Churn capestone project\\ChurnGuard-Project\\virtual_env\\lib\\site-packages\\pip\\_internal\\resolution\\resolvelib\\resolver.py\", line 92, in resolve\n",
      "    result = self._result = resolver.resolve(\n",
      "  File \"C:\\Users\\TOSHIBA\\OneDrive - Azubi Africa\\Desktop\\AZUBI\\Churn capestone project\\ChurnGuard-Project\\virtual_env\\lib\\site-packages\\pip\\_vendor\\resolvelib\\resolvers.py\", line 481, in resolve\n",
      "    state = resolution.resolve(requirements, max_rounds=max_rounds)\n",
      "  File \"C:\\Users\\TOSHIBA\\OneDrive - Azubi Africa\\Desktop\\AZUBI\\Churn capestone project\\ChurnGuard-Project\\virtual_env\\lib\\site-packages\\pip\\_vendor\\resolvelib\\resolvers.py\", line 348, in resolve\n",
      "    self._add_to_criteria(self.state.criteria, r, parent=None)\n",
      "  File \"C:\\Users\\TOSHIBA\\OneDrive - Azubi Africa\\Desktop\\AZUBI\\Churn capestone project\\ChurnGuard-Project\\virtual_env\\lib\\site-packages\\pip\\_vendor\\resolvelib\\resolvers.py\", line 172, in _add_to_criteria\n",
      "    if not criterion.candidates:\n",
      "  File \"C:\\Users\\TOSHIBA\\OneDrive - Azubi Africa\\Desktop\\AZUBI\\Churn capestone project\\ChurnGuard-Project\\virtual_env\\lib\\site-packages\\pip\\_vendor\\resolvelib\\structs.py\", line 151, in __bool__\n",
      "    return bool(self._sequence)\n",
      "  File \"C:\\Users\\TOSHIBA\\OneDrive - Azubi Africa\\Desktop\\AZUBI\\Churn capestone project\\ChurnGuard-Project\\virtual_env\\lib\\site-packages\\pip\\_internal\\resolution\\resolvelib\\found_candidates.py\", line 155, in __bool__\n",
      "    return any(self)\n",
      "  File \"C:\\Users\\TOSHIBA\\OneDrive - Azubi Africa\\Desktop\\AZUBI\\Churn capestone project\\ChurnGuard-Project\\virtual_env\\lib\\site-packages\\pip\\_internal\\resolution\\resolvelib\\found_candidates.py\", line 143, in <genexpr>\n",
      "    return (c for c in iterator if id(c) not in self._incompatible_ids)\n",
      "  File \"C:\\Users\\TOSHIBA\\OneDrive - Azubi Africa\\Desktop\\AZUBI\\Churn capestone project\\ChurnGuard-Project\\virtual_env\\lib\\site-packages\\pip\\_internal\\resolution\\resolvelib\\found_candidates.py\", line 47, in _iter_built\n",
      "    candidate = func()\n",
      "  File \"C:\\Users\\TOSHIBA\\OneDrive - Azubi Africa\\Desktop\\AZUBI\\Churn capestone project\\ChurnGuard-Project\\virtual_env\\lib\\site-packages\\pip\\_internal\\resolution\\resolvelib\\factory.py\", line 206, in _make_candidate_from_link\n",
      "    self._link_candidate_cache[link] = LinkCandidate(\n",
      "  File \"C:\\Users\\TOSHIBA\\OneDrive - Azubi Africa\\Desktop\\AZUBI\\Churn capestone project\\ChurnGuard-Project\\virtual_env\\lib\\site-packages\\pip\\_internal\\resolution\\resolvelib\\candidates.py\", line 297, in __init__\n",
      "    super().__init__(\n",
      "  File \"C:\\Users\\TOSHIBA\\OneDrive - Azubi Africa\\Desktop\\AZUBI\\Churn capestone project\\ChurnGuard-Project\\virtual_env\\lib\\site-packages\\pip\\_internal\\resolution\\resolvelib\\candidates.py\", line 162, in __init__\n",
      "    self.dist = self._prepare()\n",
      "  File \"C:\\Users\\TOSHIBA\\OneDrive - Azubi Africa\\Desktop\\AZUBI\\Churn capestone project\\ChurnGuard-Project\\virtual_env\\lib\\site-packages\\pip\\_internal\\resolution\\resolvelib\\candidates.py\", line 231, in _prepare\n",
      "    dist = self._prepare_distribution()\n",
      "  File \"C:\\Users\\TOSHIBA\\OneDrive - Azubi Africa\\Desktop\\AZUBI\\Churn capestone project\\ChurnGuard-Project\\virtual_env\\lib\\site-packages\\pip\\_internal\\resolution\\resolvelib\\candidates.py\", line 308, in _prepare_distribution\n",
      "    return preparer.prepare_linked_requirement(self._ireq, parallel_builds=True)\n",
      "  File \"C:\\Users\\TOSHIBA\\OneDrive - Azubi Africa\\Desktop\\AZUBI\\Churn capestone project\\ChurnGuard-Project\\virtual_env\\lib\\site-packages\\pip\\_internal\\operations\\prepare.py\", line 491, in prepare_linked_requirement\n",
      "    return self._prepare_linked_requirement(req, parallel_builds)\n",
      "  File \"C:\\Users\\TOSHIBA\\OneDrive - Azubi Africa\\Desktop\\AZUBI\\Churn capestone project\\ChurnGuard-Project\\virtual_env\\lib\\site-packages\\pip\\_internal\\operations\\prepare.py\", line 536, in _prepare_linked_requirement\n",
      "    local_file = unpack_url(\n",
      "  File \"C:\\Users\\TOSHIBA\\OneDrive - Azubi Africa\\Desktop\\AZUBI\\Churn capestone project\\ChurnGuard-Project\\virtual_env\\lib\\site-packages\\pip\\_internal\\operations\\prepare.py\", line 166, in unpack_url\n",
      "    file = get_http_url(\n",
      "  File \"C:\\Users\\TOSHIBA\\OneDrive - Azubi Africa\\Desktop\\AZUBI\\Churn capestone project\\ChurnGuard-Project\\virtual_env\\lib\\site-packages\\pip\\_internal\\operations\\prepare.py\", line 107, in get_http_url\n",
      "    from_path, content_type = download(link, temp_dir.path)\n",
      "  File \"C:\\Users\\TOSHIBA\\OneDrive - Azubi Africa\\Desktop\\AZUBI\\Churn capestone project\\ChurnGuard-Project\\virtual_env\\lib\\site-packages\\pip\\_internal\\network\\download.py\", line 147, in __call__\n",
      "    for chunk in chunks:\n",
      "  File \"C:\\Users\\TOSHIBA\\OneDrive - Azubi Africa\\Desktop\\AZUBI\\Churn capestone project\\ChurnGuard-Project\\virtual_env\\lib\\site-packages\\pip\\_internal\\cli\\progress_bars.py\", line 53, in _rich_progress_bar\n",
      "    for chunk in iterable:\n",
      "  File \"C:\\Users\\TOSHIBA\\OneDrive - Azubi Africa\\Desktop\\AZUBI\\Churn capestone project\\ChurnGuard-Project\\virtual_env\\lib\\site-packages\\pip\\_internal\\network\\utils.py\", line 63, in response_chunks\n",
      "    for chunk in response.raw.stream(\n",
      "  File \"C:\\Users\\TOSHIBA\\OneDrive - Azubi Africa\\Desktop\\AZUBI\\Churn capestone project\\ChurnGuard-Project\\virtual_env\\lib\\site-packages\\pip\\_vendor\\urllib3\\response.py\", line 621, in stream\n",
      "    data = self.read(amt=amt, decode_content=decode_content)\n",
      "  File \"C:\\Users\\TOSHIBA\\OneDrive - Azubi Africa\\Desktop\\AZUBI\\Churn capestone project\\ChurnGuard-Project\\virtual_env\\lib\\site-packages\\pip\\_vendor\\urllib3\\response.py\", line 559, in read\n",
      "    with self._error_catcher():\n",
      "  File \"C:\\Users\\TOSHIBA\\AppData\\Local\\Programs\\Python\\Python310\\lib\\contextlib.py\", line 153, in __exit__\n",
      "    self.gen.throw(typ, value, traceback)\n",
      "  File \"C:\\Users\\TOSHIBA\\OneDrive - Azubi Africa\\Desktop\\AZUBI\\Churn capestone project\\ChurnGuard-Project\\virtual_env\\lib\\site-packages\\pip\\_vendor\\urllib3\\response.py\", line 442, in _error_catcher\n",
      "    raise ReadTimeoutError(self._pool, None, \"Read timed out.\")\n",
      "pip._vendor.urllib3.exceptions.ReadTimeoutError: HTTPSConnectionPool(host='files.pythonhosted.org', port=443): Read timed out.\n",
      "\n",
      "[notice] A new release of pip available: 22.3.1 -> 24.0\n",
      "[notice] To update, run: python.exe -m pip install --upgrade pip\n"
     ]
    }
   ],
   "source": [
    "\n",
    "\n",
    "! pip install catboost\n",
    "! pip install xgboost\n",
    "! pip install pyarrow\n",
    "! pip install pyodbc\n",
    "! pip install pandas\n",
    "! pip install python-dotenv\n",
    "! pip install seaborn\n",
    "! pip install plotly\n",
    "! pip install scipy\n",
    "! pip install scikit-learn\n",
    "! pip install imbalanced-learn\n",
    "\n",
    "\n",
    "\n",
    "\n",
    "\n",
    "\n"
   ]
  },
  {
   "cell_type": "code",
   "execution_count": 12,
   "metadata": {},
   "outputs": [
    {
     "ename": "ModuleNotFoundError",
     "evalue": "No module named 'pandas'",
     "output_type": "error",
     "traceback": [
      "\u001b[1;31m---------------------------------------------------------------------------\u001b[0m",
      "\u001b[1;31mModuleNotFoundError\u001b[0m                       Traceback (most recent call last)",
      "Cell \u001b[1;32mIn[12], line 3\u001b[0m\n\u001b[0;32m      1\u001b[0m \u001b[38;5;66;03m# Import necessary libraries for data handling \u001b[39;00m\n\u001b[0;32m      2\u001b[0m \u001b[38;5;28;01mimport\u001b[39;00m \u001b[38;5;21;01mpyodbc\u001b[39;00m\n\u001b[1;32m----> 3\u001b[0m \u001b[38;5;28;01mimport\u001b[39;00m \u001b[38;5;21;01mpandas\u001b[39;00m \u001b[38;5;28;01mas\u001b[39;00m \u001b[38;5;21;01mpd\u001b[39;00m\n\u001b[0;32m      4\u001b[0m \u001b[38;5;28;01mimport\u001b[39;00m \u001b[38;5;21;01mnumpy\u001b[39;00m \u001b[38;5;28;01mas\u001b[39;00m \u001b[38;5;21;01mnp\u001b[39;00m\n\u001b[0;32m      5\u001b[0m \u001b[38;5;28;01mfrom\u001b[39;00m \u001b[38;5;21;01mdotenv\u001b[39;00m \u001b[38;5;28;01mimport\u001b[39;00m dotenv_values\n",
      "\u001b[1;31mModuleNotFoundError\u001b[0m: No module named 'pandas'"
     ]
    }
   ],
   "source": [
    "# Import necessary libraries for data handling \n",
    "import pyodbc\n",
    "import pandas as pd\n",
    "import numpy as np\n",
    "from dotenv import dotenv_values\n",
    "\n",
    "# Ignore Warnings\n",
    "import warnings\n",
    "warnings.filterwarnings(\"ignore\")\n",
    "\n",
    "# Visualization\n",
    "import seaborn as sns\n",
    "import matplotlib.pyplot as plt\n",
    "import plotly.express as px \n",
    "\n",
    "# hypothesis testing\n",
    "from scipy.stats import chi2_contingency\n",
    "\n",
    "# Machine learning classification model from sklean\n",
    "from sklearn.linear_model import LogisticRegression\n",
    "from sklearn.tree import DecisionTreeClassifier\n",
    "from sklearn.svm import SVC\n",
    "from sklearn.neighbors import KNeighborsClassifier\n",
    "from sklearn.linear_model import SGDClassifier\n",
    "from sklearn.ensemble import RandomForestClassifier\n",
    "from sklearn.metrics import accuracy_score, classification_report, confusion_matrix\n",
    "\n",
    "# Feature Processing\n",
    "from sklearn.impute import SimpleImputer\n",
    "from sklearn.model_selection import train_test_split\n",
    "from sklearn.pipeline import Pipeline\n",
    "from sklearn.compose import ColumnTransformer\n",
    "from sklearn.preprocessing import StandardScaler,MinMaxScaler,RobustScaler\n",
    "from sklearn.preprocessing import FunctionTransformer,OneHotEncoder,LabelEncoder,OrdinalEncoder\n",
    "from sklearn.base import TransformerMixin\n",
    "from sklearn.feature_selection import SelectKBest, mutual_info_classif\n",
    "from functools import partial\n",
    "from sklearn.metrics import roc_curve, auc\n",
    "\n",
    "# class imbalance\n",
    "from imblearn.over_sampling import RandomOverSampler, SMOTE\n",
    "from imblearn.pipeline import Pipeline as impipeline\n",
    "\n",
    "# Hyperparameters Fine-tuning\n",
    "from sklearn.model_selection import GridSearchCV\n",
    "\n",
    "# Other utilities\n",
    "import joblib\n",
    "import os\n",
    "import pickle"
   ]
  },
  {
   "cell_type": "markdown",
   "metadata": {},
   "source": [
    "## Data Loading"
   ]
  },
  {
   "cell_type": "code",
   "execution_count": null,
   "metadata": {},
   "outputs": [
    {
     "ename": "",
     "evalue": "",
     "output_type": "error",
     "traceback": [
      "\u001b[1;31mRunning cells with 'virtual_env (Python 3.10.9)' requires the ipykernel package.\n",
      "\u001b[1;31mRun the following command to install 'ipykernel' into the Python environment. \n",
      "\u001b[1;31mCommand: '\"c:/Users/TOSHIBA/OneDrive - Azubi Africa/Desktop/AZUBI/Churn capestone project/ChurnGuard-Project/virtual_env/Scripts/python.exe\" -m pip install ipykernel -U --force-reinstall'"
     ]
    }
   ],
   "source": [
    "df = pd.read_csv('../Dataset/Train.csv')\n",
    "df"
   ]
  },
  {
   "cell_type": "markdown",
   "metadata": {},
   "source": [
    "## Data understanding & EDA"
   ]
  },
  {
   "cell_type": "code",
   "execution_count": null,
   "metadata": {},
   "outputs": [
    {
     "ename": "",
     "evalue": "",
     "output_type": "error",
     "traceback": [
      "\u001b[1;31mRunning cells with 'virtual_env (Python 3.10.9)' requires the ipykernel package.\n",
      "\u001b[1;31mRun the following command to install 'ipykernel' into the Python environment. \n",
      "\u001b[1;31mCommand: '\"c:/Users/TOSHIBA/OneDrive - Azubi Africa/Desktop/AZUBI/Churn capestone project/ChurnGuard-Project/virtual_env/Scripts/python.exe\" -m pip install ipykernel -U --force-reinstall'"
     ]
    }
   ],
   "source": [
    "df.info()"
   ]
  },
  {
   "cell_type": "markdown",
   "metadata": {},
   "source": [
    "- **Insight📣**\n",
    "\n",
    "The DataFrame contains 1,077,024 entries and 19 columns. Some columns have missing values (NaN), which may require handling during data preprocessing."
   ]
  },
  {
   "cell_type": "code",
   "execution_count": null,
   "metadata": {},
   "outputs": [
    {
     "ename": "",
     "evalue": "",
     "output_type": "error",
     "traceback": [
      "\u001b[1;31mRunning cells with 'virtual_env (Python 3.10.9)' requires the ipykernel package.\n",
      "\u001b[1;31mRun the following command to install 'ipykernel' into the Python environment. \n",
      "\u001b[1;31mCommand: '\"c:/Users/TOSHIBA/OneDrive - Azubi Africa/Desktop/AZUBI/Churn capestone project/ChurnGuard-Project/virtual_env/Scripts/python.exe\" -m pip install ipykernel -U --force-reinstall'"
     ]
    }
   ],
   "source": [
    "# check for duplicates\n",
    "dup = df.duplicated().sum()\n",
    "print(f'This dataset has',dup,'duplicates')"
   ]
  },
  {
   "cell_type": "code",
   "execution_count": null,
   "metadata": {},
   "outputs": [
    {
     "ename": "",
     "evalue": "",
     "output_type": "error",
     "traceback": [
      "\u001b[1;31mRunning cells with 'virtual_env (Python 3.10.9)' requires the ipykernel package.\n",
      "\u001b[1;31mRun the following command to install 'ipykernel' into the Python environment. \n",
      "\u001b[1;31mCommand: '\"c:/Users/TOSHIBA/OneDrive - Azubi Africa/Desktop/AZUBI/Churn capestone project/ChurnGuard-Project/virtual_env/Scripts/python.exe\" -m pip install ipykernel -U --force-reinstall'"
     ]
    }
   ],
   "source": [
    "# check null values\n",
    "df.isnull().sum()"
   ]
  },
  {
   "cell_type": "code",
   "execution_count": null,
   "metadata": {},
   "outputs": [
    {
     "ename": "",
     "evalue": "",
     "output_type": "error",
     "traceback": [
      "\u001b[1;31mRunning cells with 'virtual_env (Python 3.10.9)' requires the ipykernel package.\n",
      "\u001b[1;31mRun the following command to install 'ipykernel' into the Python environment. \n",
      "\u001b[1;31mCommand: '\"c:/Users/TOSHIBA/OneDrive - Azubi Africa/Desktop/AZUBI/Churn capestone project/ChurnGuard-Project/virtual_env/Scripts/python.exe\" -m pip install ipykernel -U --force-reinstall'"
     ]
    }
   ],
   "source": [
    "# Check the percentage of missing values\n",
    "(df.isnull().sum()/(len(df)))*100"
   ]
  },
  {
   "cell_type": "markdown",
   "metadata": {},
   "source": [
    "- **Insight📣**\n",
    "\n",
    "- **High Null Percentage:**\n",
    "Features like ZONE1 and ZONE2 have exceptionally high null percentages (92.12% and 93.61% respectively), indicating that these attributes are mostly missing from the dataset.\n",
    "\n",
    "- **Moderate Null Percentage:**\n",
    "Features such as REGION, DATA_VOLUME, ON_NET, ORANGE, TIGO, TOP_PACK, and FREQ_TOP_PACK exhibit moderate null percentages ranging from 35% to 59.87%. While these attributes have a considerable number of missing values, they still contain substantial information that could be valuable for analysis. Imputation techniques or careful handling of missing data might be necessary to utilize these features effectively.\n",
    "\n",
    "- **Low Null Percentage:**\n",
    "Some features, such as MONTANT, FREQUENCE_RECH, REVENUE, ARPU_SEGMENT, and FREQUENCE, have relatively low null percentages ranging from 33.64% to 41.86%. Despite missing values, these attributes still retain a significant portion of the dataset and can potentially provide valuable insights into customer behavior and churn prediction. However, missing value imputation or careful analysis of these features' impact on the model may be required.\n",
    "\n",
    "- **No Null Values:**\n",
    "Features like user_id, TENURE, MRG, REGULARITY, and CHURN have no null values, indicating that they are complete and available for analysis without any preprocessing requirements.\n",
    "\n",
    "In conclusion, these missing values could indicate various scenarios, such as customers who haven't performed certain types of transactions or customers with incomplete usage records."
   ]
  },
  {
   "cell_type": "code",
   "execution_count": null,
   "metadata": {},
   "outputs": [
    {
     "ename": "",
     "evalue": "",
     "output_type": "error",
     "traceback": [
      "\u001b[1;31mRunning cells with 'virtual_env (Python 3.10.9)' requires the ipykernel package.\n",
      "\u001b[1;31mRun the following command to install 'ipykernel' into the Python environment. \n",
      "\u001b[1;31mCommand: '\"c:/Users/TOSHIBA/OneDrive - Azubi Africa/Desktop/AZUBI/Churn capestone project/ChurnGuard-Project/virtual_env/Scripts/python.exe\" -m pip install ipykernel -U --force-reinstall'"
     ]
    }
   ],
   "source": [
    "# View the unique enteries in the selected columns\n",
    "print(\"Unique values in 'REGION' column:\")\n",
    "print(df['REGION'].unique())\n",
    "\n",
    "print(\"\\nUnique values in 'TENURE' column:\")\n",
    "print(df['TENURE'].unique())\n",
    "\n",
    "print(\"\\nUnique values in 'MONTANT' column:\")\n",
    "print(df['MONTANT'].unique())\n",
    "\n",
    "print(\"\\nUnique values in 'FREQUENCE_RECH' column:\")\n",
    "print(df['FREQUENCE_RECH'].unique())\n",
    "\n",
    "print(\"\\nUnique values in 'REVENUE' column:\")\n",
    "print(df['REVENUE'].unique())\n",
    "\n",
    "print(\"\\nUnique values in 'ARPU_SEGMENT' column:\")\n",
    "print(df['ARPU_SEGMENT'].unique())\n",
    "\n",
    "print(\"\\nUnique values in 'FREQUENCE' column:\")\n",
    "print(df['FREQUENCE'].unique())\n",
    "\n",
    "print(\"\\nUnique values in 'DATA_VOLUME' column:\")\n",
    "print(df['DATA_VOLUME'].unique())\n",
    "\n",
    "print(\"\\nUnique values in 'ORANGE' column:\")\n",
    "print(df['ORANGE'].unique())\n",
    "\n",
    "print(\"\\nUnique values in 'ON_NET' column:\")\n",
    "print(df['ON_NET'].unique())\n",
    "\n",
    "print(\"\\nUnique values in 'TIGO' column:\")\n",
    "print(df['TIGO'].unique())\n",
    "\n",
    "print(\"\\nUnique values in 'ZONE1' column:\")\n",
    "print(df['ZONE1'].unique())\n",
    "\n",
    "print(\"\\nUnique values in 'ZONE2' column:\")\n",
    "print(df['ZONE2'].unique())\n",
    "\n",
    "print(\"\\nUnique values in 'MRG' column:\")\n",
    "print(df['MRG'].unique())\n",
    "\n",
    "print(\"\\nUnique values in 'REGULARITY' column:\")\n",
    "print(df['REGULARITY'].unique())\n",
    "\n",
    "print(\"\\nUnique values in 'TOP_PACK' column:\")\n",
    "print(df['TOP_PACK'].unique())\n",
    "\n",
    "print(\"\\nUnique values in 'FREQ_TOP_PACK' column:\")\n",
    "print(df['FREQ_TOP_PACK'].unique())\n",
    "\n",
    "print(\"\\nUnique values in 'CHURN' column:\")\n",
    "print(df['CHURN'].unique())"
   ]
  },
  {
   "cell_type": "code",
   "execution_count": null,
   "metadata": {},
   "outputs": [
    {
     "ename": "",
     "evalue": "",
     "output_type": "error",
     "traceback": [
      "\u001b[1;31mRunning cells with 'virtual_env (Python 3.10.9)' requires the ipykernel package.\n",
      "\u001b[1;31mRun the following command to install 'ipykernel' into the Python environment. \n",
      "\u001b[1;31mCommand: '\"c:/Users/TOSHIBA/OneDrive - Azubi Africa/Desktop/AZUBI/Churn capestone project/ChurnGuard-Project/virtual_env/Scripts/python.exe\" -m pip install ipykernel -U --force-reinstall'"
     ]
    }
   ],
   "source": [
    "# Getting the summary statistics of numerical columns\n",
    "df.describe().T"
   ]
  },
  {
   "cell_type": "markdown",
   "metadata": {},
   "source": [
    "- **Insight📣**\n",
    "\n",
    "**MONTANT (Top-Up Amount):**\n",
    "\n",
    "- The average top-up amount is moderate (5529.21), with a standard deviation of 7104.74, indicating significant variability in spending behavior among customers.\n",
    "- The distribution ranges from a minimum of 20 to a maximum of 470,000, this wide range of top-up amounts suggests diverse spending behaviors among customers, with some spending significantly more than others.\n",
    "\n",
    "**FREQUENCE_RECH (Frequency of Recharges):**\n",
    "\n",
    "- The mean recharge frequency is 11.52, with a standard deviation of 13.26, indicating varying levels of engagement in recharging among customers.\n",
    "- The distribution ranges from a minimum of 1 to a maximum of 131, showing significant differences in how often customers refill their accounts.\n",
    "\n",
    "**REVENUE (Monthly Income):**\n",
    "\n",
    "- The average monthly income is 5506.05, with a standard deviation of 7175.63, suggesting variability in income levels among customers.\n",
    "- The distribution ranges from a minimum of 1 to a maximum of 532,177, indicating a wide range of income levels among customers.\n",
    "\n",
    "**ARPU_SEGMENT (Average Revenue Per User):**\n",
    "\n",
    "- The mean ARPU segment is 1835.36, with a standard deviation of 2391.87, suggesting variability in the average revenue generated per user.\n",
    "- The distribution ranges from a minimum of 0 to a maximum of 177,392, indicating substantial differences in revenue generation among users.\n",
    "\n",
    "**FREQUENCE (Frequency of Transactions):**\n",
    "\n",
    "- The mean transaction frequency is 13.97, with a standard deviation of 14.69, indicating variability in transaction activity among customers.\n",
    "- The distribution ranges from a minimum of 1 to a maximum of 91, showing significant differences in transaction engagement among users.\n",
    "\n",
    "**DATA_VOLUME (Volume of Data Consumed):**\n",
    "\n",
    "- The mean data volume consumed is 3368.80, with a standard deviation of 12898.93, suggesting variability in data usage patterns among customers.\n",
    "- The distribution ranges from a minimum of 0 to a maximum of 1,702,309, indicating wide differences in data consumption levels among users.\n",
    "\n",
    "These insights highlight the diversity and variability in customer behavior and usage patterns within Expresso's customer base. Understanding these patterns is crucial for developing effective strategies to predict churn and retain valuable customers."
   ]
  },
  {
   "cell_type": "markdown",
   "metadata": {},
   "source": [
    "### Univariate Analysis"
   ]
  },
  {
   "cell_type": "code",
   "execution_count": null,
   "metadata": {},
   "outputs": [
    {
     "ename": "",
     "evalue": "",
     "output_type": "error",
     "traceback": [
      "\u001b[1;31mRunning cells with 'virtual_env (Python 3.10.9)' requires the ipykernel package.\n",
      "\u001b[1;31mRun the following command to install 'ipykernel' into the Python environment. \n",
      "\u001b[1;31mCommand: '\"c:/Users/TOSHIBA/OneDrive - Azubi Africa/Desktop/AZUBI/Churn capestone project/ChurnGuard-Project/virtual_env/Scripts/python.exe\" -m pip install ipykernel -U --force-reinstall'"
     ]
    }
   ],
   "source": [
    "# Select numerical columns\n",
    "numerical_columns = df.select_dtypes(include=['int64', 'float64']).columns\n",
    "\n",
    "# Loop through each numerical column\n",
    "for column in numerical_columns:\n",
    "    # Set up subplots\n",
    "    fig, axes = plt.subplots(1, 2, figsize=(8, 3))\n",
    "\n",
    "    # Histogram\n",
    "    sns.histplot(df[column], bins=20, kde=True, color='Blue', ax=axes[0])\n",
    "    axes[0].set_title(f'Histogram of {column}')\n",
    "    axes[0].set_xlabel(column)\n",
    "    axes[0].set_ylabel('Frequency')\n",
    "    axes[0].grid(False)\n",
    "\n",
    "    # Box plot\n",
    "    sns.boxplot(x=df[column], color='Orange', ax=axes[1])\n",
    "    axes[1].set_title(f'Box plot of {column}')\n",
    "    axes[1].set_xlabel(column)\n",
    "    axes[1].grid(False)\n",
    "\n",
    "    # Adjust layout\n",
    "    plt.tight_layout()\n",
    "\n",
    "    # Skewness\n",
    "    skewness = df[column].skew()\n",
    "    print(f\"Skewness of {column}: {skewness}\")\n",
    "\n",
    "    plt.show()"
   ]
  },
  {
   "cell_type": "markdown",
   "metadata": {},
   "source": [
    "- **Insight📣**\n",
    "\n",
    "- **Highly Right-Skewed Distributions (Skewness > 1):**\n",
    "\n",
    "Variables such as DATA_VOLUME, ON_NET, ORANGE, TIGO, ZONE1, and ZONE2 exhibit highly right-skewed distributions, with skewness values ranging from 8.36 to 36.73. This indicates that most of the data is concentrated towards lower values, while a few observations have significantly higher values. When handling missing values for these variables, imputing with the median will be more appropriate to avoid biase towards higher values due to outliers.\n",
    "\n",
    "- **Moderately Right-Skewed Distributions (Skewness between 0 and 1):**\n",
    "\n",
    "FREQUENCE_RECH, FREQUENCE, and FREQ_TOP_PACK show moderately right-skewed distributions, with skewness values ranging from 1.78 to 3.91. While these distributions are not as extreme as the highly right-skewed ones, due to the presence of skewness and the potential influence of outliers. Imputing missing values with the median would be considered based on the characteristics of the data.\n",
    "\n",
    "- **Nearly Symmetrical Distribution (Skewness close to 0):**\n",
    "\n",
    "**REGULARITY** exhibits a skewness value close to 0, indicating a nearly symmetrical distribution. Imputing missing values for this variable with the mean would be suitable since there is no strong skewness/outliers to consider.\n"
   ]
  },
  {
   "cell_type": "code",
   "execution_count": null,
   "metadata": {},
   "outputs": [
    {
     "ename": "",
     "evalue": "",
     "output_type": "error",
     "traceback": [
      "\u001b[1;31mRunning cells with 'virtual_env (Python 3.10.9)' requires the ipykernel package.\n",
      "\u001b[1;31mRun the following command to install 'ipykernel' into the Python environment. \n",
      "\u001b[1;31mCommand: '\"c:/Users/TOSHIBA/OneDrive - Azubi Africa/Desktop/AZUBI/Churn capestone project/ChurnGuard-Project/virtual_env/Scripts/python.exe\" -m pip install ipykernel -U --force-reinstall'"
     ]
    }
   ],
   "source": [
    "# Univariate analysis for the REGION column.\n",
    "plt.figure(figsize=(8, 4))\n",
    "sns.countplot(x='REGION', data=df, palette='Set2')\n",
    "plt.title(f'Countplot of {column}')\n",
    "plt.xlabel(column)\n",
    "plt.ylabel('Count')\n",
    "plt.xticks(rotation=45)  # Rotate x-axis labels for better readability\n",
    "plt.grid(False)\n",
    "plt.show()"
   ]
  },
  {
   "cell_type": "code",
   "execution_count": null,
   "metadata": {},
   "outputs": [
    {
     "ename": "",
     "evalue": "",
     "output_type": "error",
     "traceback": [
      "\u001b[1;31mRunning cells with 'virtual_env (Python 3.10.9)' requires the ipykernel package.\n",
      "\u001b[1;31mRun the following command to install 'ipykernel' into the Python environment. \n",
      "\u001b[1;31mCommand: '\"c:/Users/TOSHIBA/OneDrive - Azubi Africa/Desktop/AZUBI/Churn capestone project/ChurnGuard-Project/virtual_env/Scripts/python.exe\" -m pip install ipykernel -U --force-reinstall'"
     ]
    }
   ],
   "source": [
    "# Univariate analysis for the TENURE column.\n",
    "plt.figure(figsize=(8, 4))\n",
    "sns.countplot(x='TENURE', data=df, palette='Set2')\n",
    "plt.title(f'Countplot of {column}')\n",
    "plt.xlabel(column)\n",
    "plt.ylabel('Count')\n",
    "plt.xticks(rotation=45)  # Rotate x-axis labels for better readability\n",
    "plt.grid(False)\n",
    "plt.show()"
   ]
  },
  {
   "cell_type": "code",
   "execution_count": null,
   "metadata": {},
   "outputs": [
    {
     "ename": "",
     "evalue": "",
     "output_type": "error",
     "traceback": [
      "\u001b[1;31mRunning cells with 'virtual_env (Python 3.10.9)' requires the ipykernel package.\n",
      "\u001b[1;31mRun the following command to install 'ipykernel' into the Python environment. \n",
      "\u001b[1;31mCommand: '\"c:/Users/TOSHIBA/OneDrive - Azubi Africa/Desktop/AZUBI/Churn capestone project/ChurnGuard-Project/virtual_env/Scripts/python.exe\" -m pip install ipykernel -U --force-reinstall'"
     ]
    }
   ],
   "source": [
    "# Univariate analysis for the top 10 TOP_PACK column.\n",
    "plt.figure(figsize=(12, 6)) \n",
    "sns.countplot(y='TOP_PACK', data=df, palette='Set2', order=df['TOP_PACK'].value_counts().index[:10])\n",
    "plt.title('Countplot of Top 10 Packs')  \n",
    "plt.xlabel('Count')  \n",
    "plt.ylabel('Top Packs') \n",
    "plt.grid(False) \n",
    "plt.show() \n",
    "\n"
   ]
  },
  {
   "cell_type": "markdown",
   "metadata": {},
   "source": [
    "### BIVARIATE ANALYSIS"
   ]
  },
  {
   "cell_type": "code",
   "execution_count": null,
   "metadata": {},
   "outputs": [
    {
     "ename": "",
     "evalue": "",
     "output_type": "error",
     "traceback": [
      "\u001b[1;31mRunning cells with 'virtual_env (Python 3.10.9)' requires the ipykernel package.\n",
      "\u001b[1;31mRun the following command to install 'ipykernel' into the Python environment. \n",
      "\u001b[1;31mCommand: '\"c:/Users/TOSHIBA/OneDrive - Azubi Africa/Desktop/AZUBI/Churn capestone project/ChurnGuard-Project/virtual_env/Scripts/python.exe\" -m pip install ipykernel -U --force-reinstall'"
     ]
    }
   ],
   "source": [
    "# Box plot of churn vs. MONTANT\n",
    "plt.figure(figsize=(12, 4))\n",
    "sns.boxplot(x='CHURN', y='MONTANT', data=df)\n",
    "plt.title('Box plot of CHURN vs. MONTANT')\n",
    "plt.xlabel('CHURN')\n",
    "plt.ylabel('MONTANT')\n",
    "plt.grid(False)\n",
    "plt.show()"
   ]
  },
  {
   "cell_type": "code",
   "execution_count": null,
   "metadata": {},
   "outputs": [
    {
     "ename": "",
     "evalue": "",
     "output_type": "error",
     "traceback": [
      "\u001b[1;31mRunning cells with 'virtual_env (Python 3.10.9)' requires the ipykernel package.\n",
      "\u001b[1;31mRun the following command to install 'ipykernel' into the Python environment. \n",
      "\u001b[1;31mCommand: '\"c:/Users/TOSHIBA/OneDrive - Azubi Africa/Desktop/AZUBI/Churn capestone project/ChurnGuard-Project/virtual_env/Scripts/python.exe\" -m pip install ipykernel -U --force-reinstall'"
     ]
    }
   ],
   "source": [
    "# Violin plot of churn vs. REVENUE\n",
    "plt.figure(figsize=(10, 4))\n",
    "sns.violinplot(x='CHURN', y='REVENUE', data=df, palette='Set2')\n",
    "plt.title('Violin plot of CHURN vs. REVENUE')\n",
    "plt.xlabel('CHURN')\n",
    "plt.ylabel('REVENUE')\n",
    "plt.grid(False)\n",
    "plt.show()"
   ]
  },
  {
   "cell_type": "code",
   "execution_count": null,
   "metadata": {},
   "outputs": [
    {
     "ename": "",
     "evalue": "",
     "output_type": "error",
     "traceback": [
      "\u001b[1;31mRunning cells with 'virtual_env (Python 3.10.9)' requires the ipykernel package.\n",
      "\u001b[1;31mRun the following command to install 'ipykernel' into the Python environment. \n",
      "\u001b[1;31mCommand: '\"c:/Users/TOSHIBA/OneDrive - Azubi Africa/Desktop/AZUBI/Churn capestone project/ChurnGuard-Project/virtual_env/Scripts/python.exe\" -m pip install ipykernel -U --force-reinstall'"
     ]
    }
   ],
   "source": [
    "# Box plot of CHURN vs REGULARITY\n",
    "plt.figure(figsize=(10, 4))\n",
    "sns.boxplot(x='CHURN', y='REGULARITY', data=df)\n",
    "plt.title('Box Plot of CHURN vs REGULARITY')\n",
    "plt.xlabel('CHURN')\n",
    "plt.ylabel('REGULARITY')\n",
    "plt.grid(False)\n",
    "plt.show()"
   ]
  },
  {
   "cell_type": "code",
   "execution_count": null,
   "metadata": {},
   "outputs": [
    {
     "ename": "",
     "evalue": "",
     "output_type": "error",
     "traceback": [
      "\u001b[1;31mRunning cells with 'virtual_env (Python 3.10.9)' requires the ipykernel package.\n",
      "\u001b[1;31mRun the following command to install 'ipykernel' into the Python environment. \n",
      "\u001b[1;31mCommand: '\"c:/Users/TOSHIBA/OneDrive - Azubi Africa/Desktop/AZUBI/Churn capestone project/ChurnGuard-Project/virtual_env/Scripts/python.exe\" -m pip install ipykernel -U --force-reinstall'"
     ]
    }
   ],
   "source": [
    "# Box plot of CHURN vs FREQUENCE\n",
    "plt.figure(figsize=(10, 4))\n",
    "sns.boxplot(x='CHURN', y='FREQUENCE', data=df)\n",
    "plt.title('Box Plot of CHURN vs FREQUENCE')\n",
    "plt.xlabel('CHURN')\n",
    "plt.ylabel('FREQUENCE')\n",
    "plt.grid(False)\n",
    "plt.show()"
   ]
  },
  {
   "cell_type": "code",
   "execution_count": null,
   "metadata": {},
   "outputs": [
    {
     "ename": "",
     "evalue": "",
     "output_type": "error",
     "traceback": [
      "\u001b[1;31mRunning cells with 'virtual_env (Python 3.10.9)' requires the ipykernel package.\n",
      "\u001b[1;31mRun the following command to install 'ipykernel' into the Python environment. \n",
      "\u001b[1;31mCommand: '\"c:/Users/TOSHIBA/OneDrive - Azubi Africa/Desktop/AZUBI/Churn capestone project/ChurnGuard-Project/virtual_env/Scripts/python.exe\" -m pip install ipykernel -U --force-reinstall'"
     ]
    }
   ],
   "source": [
    "# Box plot of CHURN vs FREQUENCE_RECH\n",
    "plt.figure(figsize=(10, 5))\n",
    "sns.boxplot(x='CHURN', y='FREQUENCE_RECH', data=df)\n",
    "plt.title('Box Plot of CHURN vs FREQUENCE_RECH')\n",
    "plt.xlabel('CHURN')\n",
    "plt.ylabel('FREQUENCE_RECH')\n",
    "plt.grid(False)\n",
    "plt.show()"
   ]
  },
  {
   "cell_type": "code",
   "execution_count": null,
   "metadata": {},
   "outputs": [
    {
     "ename": "",
     "evalue": "",
     "output_type": "error",
     "traceback": [
      "\u001b[1;31mRunning cells with 'virtual_env (Python 3.10.9)' requires the ipykernel package.\n",
      "\u001b[1;31mRun the following command to install 'ipykernel' into the Python environment. \n",
      "\u001b[1;31mCommand: '\"c:/Users/TOSHIBA/OneDrive - Azubi Africa/Desktop/AZUBI/Churn capestone project/ChurnGuard-Project/virtual_env/Scripts/python.exe\" -m pip install ipykernel -U --force-reinstall'"
     ]
    }
   ],
   "source": [
    "# Scatter plot of REVENUE vs DATA_VOLUME\n",
    "plt.figure(figsize=(10, 6))\n",
    "plt.scatter(df['DATA_VOLUME'], df['REVENUE'], alpha=0.5)\n",
    "plt.title('Scatter Plot of REVENUE vs DATA_VOLUME')\n",
    "plt.xlabel('DATA_VOLUME')\n",
    "plt.ylabel('REVENUE')\n",
    "plt.grid(False)\n",
    "plt.show()"
   ]
  },
  {
   "cell_type": "code",
   "execution_count": null,
   "metadata": {},
   "outputs": [
    {
     "ename": "",
     "evalue": "",
     "output_type": "error",
     "traceback": [
      "\u001b[1;31mRunning cells with 'virtual_env (Python 3.10.9)' requires the ipykernel package.\n",
      "\u001b[1;31mRun the following command to install 'ipykernel' into the Python environment. \n",
      "\u001b[1;31mCommand: '\"c:/Users/TOSHIBA/OneDrive - Azubi Africa/Desktop/AZUBI/Churn capestone project/ChurnGuard-Project/virtual_env/Scripts/python.exe\" -m pip install ipykernel -U --force-reinstall'"
     ]
    }
   ],
   "source": [
    "# Scatter plot of REGULARITY vs REVENUE\n",
    "plt.figure(figsize=(10, 6))\n",
    "plt.scatter(df['REGULARITY'], df['REVENUE'], alpha=0.5)\n",
    "plt.title('Scatter Plot of REGULARITY vs REVENUE')\n",
    "plt.xlabel('REGULARITY')\n",
    "plt.ylabel('REVENUE')\n",
    "plt.grid(False)\n",
    "plt.show()"
   ]
  },
  {
   "cell_type": "code",
   "execution_count": null,
   "metadata": {},
   "outputs": [
    {
     "ename": "",
     "evalue": "",
     "output_type": "error",
     "traceback": [
      "\u001b[1;31mRunning cells with 'virtual_env (Python 3.10.9)' requires the ipykernel package.\n",
      "\u001b[1;31mRun the following command to install 'ipykernel' into the Python environment. \n",
      "\u001b[1;31mCommand: '\"c:/Users/TOSHIBA/OneDrive - Azubi Africa/Desktop/AZUBI/Churn capestone project/ChurnGuard-Project/virtual_env/Scripts/python.exe\" -m pip install ipykernel -U --force-reinstall'"
     ]
    }
   ],
   "source": [
    "# Count plot of CHURN vs TENURE\n",
    "plt.figure(figsize=(10, 6))\n",
    "sns.countplot(x='TENURE', hue='CHURN', data=df)\n",
    "plt.title('Count Plot of CHURN vs TENURE')\n",
    "plt.xlabel('TENURE')\n",
    "plt.ylabel('Count')\n",
    "plt.grid(False)\n",
    "plt.show()"
   ]
  },
  {
   "cell_type": "code",
   "execution_count": null,
   "metadata": {},
   "outputs": [
    {
     "ename": "",
     "evalue": "",
     "output_type": "error",
     "traceback": [
      "\u001b[1;31mRunning cells with 'virtual_env (Python 3.10.9)' requires the ipykernel package.\n",
      "\u001b[1;31mRun the following command to install 'ipykernel' into the Python environment. \n",
      "\u001b[1;31mCommand: '\"c:/Users/TOSHIBA/OneDrive - Azubi Africa/Desktop/AZUBI/Churn capestone project/ChurnGuard-Project/virtual_env/Scripts/python.exe\" -m pip install ipykernel -U --force-reinstall'"
     ]
    }
   ],
   "source": [
    "# Count plot of CHURN vs REGION\n",
    "plt.figure(figsize=(12, 6))\n",
    "sns.countplot(y='REGION', hue='CHURN',  data=df)\n",
    "plt.title('Count Plot of CHURN vs REGION')\n",
    "plt.xlabel('REGION')\n",
    "plt.ylabel('Count')\n",
    "plt.xticks(rotation=45)  # Rotate x-axis labels for better readability\n",
    "plt.grid(False)\n",
    "plt.legend(loc='lower right')\n",
    "plt.show()"
   ]
  },
  {
   "cell_type": "markdown",
   "metadata": {},
   "source": [
    "### Multivariate Analysis"
   ]
  },
  {
   "cell_type": "code",
   "execution_count": null,
   "metadata": {},
   "outputs": [
    {
     "ename": "",
     "evalue": "",
     "output_type": "error",
     "traceback": [
      "\u001b[1;31mRunning cells with 'virtual_env (Python 3.10.9)' requires the ipykernel package.\n",
      "\u001b[1;31mRun the following command to install 'ipykernel' into the Python environment. \n",
      "\u001b[1;31mCommand: '\"c:/Users/TOSHIBA/OneDrive - Azubi Africa/Desktop/AZUBI/Churn capestone project/ChurnGuard-Project/virtual_env/Scripts/python.exe\" -m pip install ipykernel -U --force-reinstall'"
     ]
    }
   ],
   "source": [
    "# relationship among features\n",
    "correlation_matrix = df.corr(numeric_only=True)\n",
    "correlation_matrix"
   ]
  },
  {
   "cell_type": "code",
   "execution_count": null,
   "metadata": {},
   "outputs": [
    {
     "ename": "",
     "evalue": "",
     "output_type": "error",
     "traceback": [
      "\u001b[1;31mRunning cells with 'virtual_env (Python 3.10.9)' requires the ipykernel package.\n",
      "\u001b[1;31mRun the following command to install 'ipykernel' into the Python environment. \n",
      "\u001b[1;31mCommand: '\"c:/Users/TOSHIBA/OneDrive - Azubi Africa/Desktop/AZUBI/Churn capestone project/ChurnGuard-Project/virtual_env/Scripts/python.exe\" -m pip install ipykernel -U --force-reinstall'"
     ]
    }
   ],
   "source": [
    "# Plot heatmap\n",
    "correlation_matrix = df.corr(numeric_only=True)\n",
    "plt.figure(figsize=(10, 8))\n",
    "sns.heatmap(correlation_matrix, annot=True, cmap='coolwarm', fmt=\".2f\")\n",
    "plt.show()"
   ]
  },
  {
   "cell_type": "markdown",
   "metadata": {},
   "source": [
    "#### Save the dataset (cleaned) into a CSV file"
   ]
  },
  {
   "cell_type": "code",
   "execution_count": null,
   "metadata": {},
   "outputs": [
    {
     "ename": "",
     "evalue": "",
     "output_type": "error",
     "traceback": [
      "\u001b[1;31mRunning cells with 'virtual_env (Python 3.10.9)' requires the ipykernel package.\n",
      "\u001b[1;31mRun the following command to install 'ipykernel' into the Python environment. \n",
      "\u001b[1;31mCommand: '\"c:/Users/TOSHIBA/OneDrive - Azubi Africa/Desktop/AZUBI/Churn capestone project/ChurnGuard-Project/virtual_env/Scripts/python.exe\" -m pip install ipykernel -U --force-reinstall'"
     ]
    }
   ],
   "source": [
    "# Clean the data and save it with a different name in a csv format\n",
    "df_preprocessed = pd.DataFrame(df)\n",
    "\n",
    "# Specify columns with missing values\n",
    "numerical_cols = ['MONTANT', 'FREQ_TOP_PACK', 'FREQUENCE_RECH', 'ZONE2', 'ZONE1', 'TIGO', 'ORANGE', 'ON_NET', 'DATA_VOLUME', 'FREQUENCE', 'ARPU_SEGMENT', 'REVENUE']\n",
    "categorical_cols = ['REGION', 'TOP_PACK']\n",
    "\n",
    "# Impute missing values for numerical columns\n",
    "numerical_imputer = SimpleImputer(strategy='median')\n",
    "df_preprocessed[numerical_cols] = numerical_imputer.fit_transform(df_preprocessed[numerical_cols])\n",
    "\n",
    "# Impute missing values for categorical columns\n",
    "categorical_imputer = SimpleImputer(strategy='most_frequent')\n",
    "df_preprocessed[categorical_cols] = categorical_imputer.fit_transform(df_preprocessed[categorical_cols])\n",
    "\n",
    "# Verify Changes\n",
    "print(\"Null values after preprocessing:\\n\", df_preprocessed.isnull().sum())"
   ]
  },
  {
   "cell_type": "code",
   "execution_count": null,
   "metadata": {},
   "outputs": [
    {
     "ename": "",
     "evalue": "",
     "output_type": "error",
     "traceback": [
      "\u001b[1;31mRunning cells with 'virtual_env (Python 3.10.9)' requires the ipykernel package.\n",
      "\u001b[1;31mRun the following command to install 'ipykernel' into the Python environment. \n",
      "\u001b[1;31mCommand: '\"c:/Users/TOSHIBA/OneDrive - Azubi Africa/Desktop/AZUBI/Churn capestone project/ChurnGuard-Project/virtual_env/Scripts/python.exe\" -m pip install ipykernel -U --force-reinstall'"
     ]
    }
   ],
   "source": [
    "# Saving the DataFrame to an Excel file\n",
    "desktop_path = r'C:\\Users\\USER\\Desktop'\n",
    "csv_file_path = desktop_path + r'\\df_preprocessed.xlsx'\n",
    "\n",
    "# Save the DataFrame to a CSV file\n",
    "df_preprocessed.to_csv(csv_file_path, index=False)\n"
   ]
  },
  {
   "cell_type": "markdown",
   "metadata": {},
   "source": [
    "## Answering Business Questions"
   ]
  },
  {
   "cell_type": "markdown",
   "metadata": {},
   "source": [
    "1) What is the overall churn rate observed in the dataset."
   ]
  },
  {
   "cell_type": "code",
   "execution_count": null,
   "metadata": {},
   "outputs": [
    {
     "ename": "",
     "evalue": "",
     "output_type": "error",
     "traceback": [
      "\u001b[1;31mRunning cells with 'virtual_env (Python 3.10.9)' requires the ipykernel package.\n",
      "\u001b[1;31mRun the following command to install 'ipykernel' into the Python environment. \n",
      "\u001b[1;31mCommand: '\"c:/Users/TOSHIBA/OneDrive - Azubi Africa/Desktop/AZUBI/Churn capestone project/ChurnGuard-Project/virtual_env/Scripts/python.exe\" -m pip install ipykernel -U --force-reinstall'"
     ]
    }
   ],
   "source": [
    "# Calculate churn rate\n",
    "churn_rate = df_preprocessed['CHURN'].mean()\n",
    "\n",
    "# Plotting\n",
    "labels = ['Churned', 'Not Churned']\n",
    "sizes = [churn_rate, 1 - churn_rate]\n",
    "colors = ['#ff9999','#66b3ff']\n",
    "explode = (0.1, 0)  # explode the 1st slice (Churned)\n",
    "\n",
    "plt.figure(figsize=(6, 6))\n",
    "plt.pie(sizes, explode=explode, labels=labels, colors=colors, autopct='%1.1f%%', startangle=140)\n",
    "plt.title('Overall Churn Rate')\n",
    "plt.axis('equal')  # Equal aspect ratio ensures that pie is drawn as a circle.\n",
    "plt.show()"
   ]
  },
  {
   "cell_type": "markdown",
   "metadata": {},
   "source": [
    "**Insight📣**\n",
    "\n",
    "- The dataset is imbalanced.\n",
    "- The overall churn rate observed in the dataset is 18.8%, this suggests that nearly one-fifth of the customer base is leaving the company within a specific period.\n",
    "- This may indicate fierce competition in the telecommunications industry. Customers might be switching to competitors offering better deals, services, or customer experiences.\n",
    "- this could also imply dissatisfaction with the company's services, customer support, pricing, or overall experience."
   ]
  },
  {
   "cell_type": "markdown",
   "metadata": {},
   "source": [
    "2) How does churn vary across different geographic regions served by the telecommunications company."
   ]
  },
  {
   "cell_type": "code",
   "execution_count": null,
   "metadata": {},
   "outputs": [
    {
     "ename": "",
     "evalue": "",
     "output_type": "error",
     "traceback": [
      "\u001b[1;31mRunning cells with 'virtual_env (Python 3.10.9)' requires the ipykernel package.\n",
      "\u001b[1;31mRun the following command to install 'ipykernel' into the Python environment. \n",
      "\u001b[1;31mCommand: '\"c:/Users/TOSHIBA/OneDrive - Azubi Africa/Desktop/AZUBI/Churn capestone project/ChurnGuard-Project/virtual_env/Scripts/python.exe\" -m pip install ipykernel -U --force-reinstall'"
     ]
    }
   ],
   "source": [
    "# Calculate churn rate for each region\n",
    "churn_by_region = df_preprocessed.groupby('REGION')['CHURN'].mean().sort_values(ascending=False)\n",
    "\n",
    "# Plotting\n",
    "plt.figure(figsize=(10, 6))\n",
    "sns.barplot(x=churn_by_region.index, y=churn_by_region.values, palette='viridis')\n",
    "plt.title('Churn Rate Across Different Regions')\n",
    "plt.xlabel('Region')\n",
    "plt.ylabel('Churn Rate')\n",
    "plt.xticks(rotation=45, ha='right')\n",
    "plt.tight_layout()\n",
    "plt.show()"
   ]
  },
  {
   "cell_type": "markdown",
   "metadata": {},
   "source": [
    "**Insight📣**\n",
    "- **DAKAR:** The region with the highest churn rate at approximately 28.7%. This indicates that customers in Dakar are more likely to churn compared to other regions.\n",
    "- **SEDHIOU:** With a churn rate of around 5.4%, Sedhiou has a relatively lower churn rate compared to Dakar but still higher than several other regions.\n",
    "- **KEDOUGOU:** Kedougou follows Sedhiou with a churn rate of about 4.1%, indicating a lower churn rate in this region compared to the previous two.\n",
    "- **ZIGUINCHOR, DIOURBEL, KAOLACK, MATAM, THIES, LOUGA, TAMBACOUNDA, FATICK, SAINT-LOUIS, KOLDA, KAFFRINE:** These regions exhibit churn rates ranging from 1.7% to 2.9%, showing relatively lower churn compared to Dakar but higher than regions like Kedougou and Sedhiou.\n",
    "- **KAFFRINE:** Kaffrine has the lowest churn rate among all regions, with only about 0.7% of customers churning."
   ]
  },
  {
   "cell_type": "markdown",
   "metadata": {},
   "source": [
    "3) What is the churn rate (proportion of churned customers) for each tenure category."
   ]
  },
  {
   "cell_type": "code",
   "execution_count": null,
   "metadata": {},
   "outputs": [
    {
     "ename": "",
     "evalue": "",
     "output_type": "error",
     "traceback": [
      "\u001b[1;31mRunning cells with 'virtual_env (Python 3.10.9)' requires the ipykernel package.\n",
      "\u001b[1;31mRun the following command to install 'ipykernel' into the Python environment. \n",
      "\u001b[1;31mCommand: '\"c:/Users/TOSHIBA/OneDrive - Azubi Africa/Desktop/AZUBI/Churn capestone project/ChurnGuard-Project/virtual_env/Scripts/python.exe\" -m pip install ipykernel -U --force-reinstall'"
     ]
    }
   ],
   "source": [
    "# Group the data by tenure and calculate churn rate\n",
    "churn_rate_by_tenure = df_preprocessed.groupby('TENURE')['CHURN'].mean()\n",
    "\n",
    "# Plotting\n",
    "plt.figure(figsize=(10, 6))\n",
    "churn_rate_by_tenure.plot(kind='bar', color='skyblue')\n",
    "plt.title('Churn Rate by Tenure')\n",
    "plt.xlabel('Tenure')\n",
    "plt.ylabel('Churn Rate')\n",
    "plt.xticks(rotation=45)\n",
    "plt.grid(False)\n",
    "plt.show()"
   ]
  },
  {
   "cell_type": "markdown",
   "metadata": {},
   "source": [
    "4) Are customers who frequently activate specific top pack packages (TOP_PACK) less likely to churn, and can certain top packs be associated with higher customer retention rates?"
   ]
  },
  {
   "cell_type": "code",
   "execution_count": null,
   "metadata": {},
   "outputs": [
    {
     "ename": "",
     "evalue": "",
     "output_type": "error",
     "traceback": [
      "\u001b[1;31mRunning cells with 'virtual_env (Python 3.10.9)' requires the ipykernel package.\n",
      "\u001b[1;31mRun the following command to install 'ipykernel' into the Python environment. \n",
      "\u001b[1;31mCommand: '\"c:/Users/TOSHIBA/OneDrive - Azubi Africa/Desktop/AZUBI/Churn capestone project/ChurnGuard-Project/virtual_env/Scripts/python.exe\" -m pip install ipykernel -U --force-reinstall'"
     ]
    }
   ],
   "source": [
    "# Group the data by TOP_PACK and calculate churn rate\n",
    "top_pack_churn_rate = df_preprocessed.groupby('TOP_PACK')['CHURN'].mean().sort_values(ascending=False)[:20]\n",
    "\n",
    "# Plotting\n",
    "plt.figure(figsize=(10, 6))\n",
    "sns.barplot(x=top_pack_churn_rate.index, y=top_pack_churn_rate.values, palette='viridis')\n",
    "plt.title('Churn Rate by Top 10 Top Packs')\n",
    "plt.xlabel('Top Pack')\n",
    "plt.ylabel('Churn Rate')\n",
    "plt.xticks(rotation=90)\n",
    "plt.grid(False)\n",
    "plt.show()"
   ]
  },
  {
   "cell_type": "markdown",
   "metadata": {},
   "source": [
    "**Insight📣**\n",
    "\n",
    "- **GPRS_PKG_5GO_ILLIMITE and 150=unlimited pilot auto:** These two top packs have a churn rate of 100%, indicating that all customers who subscribed to these packages churned. This suggests that these packages might not meet customer expectations or offer competitive advantages, leading to dissatisfaction and subsequent churn.\n",
    "- **Jokko_Weekly:** This top pack has a churn rate of 37.3%, indicating that a significant portion of customers who subscribed to this package churned. This might imply that while the package initially attracts customers, it fails to retain them in the long term, possibly due to issues such as pricing, service quality, or competition.\n",
    "- **CVM_100f=200 MB, All-net 500F=2000F;5d, New_YAKALMA_4_ALL, Internat: 1000F_Zone_3;24h:** These top packs have churn rates ranging from 23.8% to 33.3%. This suggests that while these packages may have some appeal to customers, a significant portion still churn, indicating potential areas for improvement in service offerings or customer experience.\n",
    "- **Staff_CPE_Rent and Data: 490F=Night,00H-08H:** These top packs have churn rates of around 19.1% and 17.6%, respectively. While the churn rates are relatively lower compared to others, there is still room for optimization to reduce churn further and improve customer retention.\n",
    "- **Data:700F=SPPackage1,7d:** This top pack has a churn rate of 16.9%, indicating that it has a relatively lower churn rate compared to others in the top 10.\n",
    "\n",
    "- **Other Top Packages like 200F=10mnOnNetValid1H, Internat: 2000F_Zone_2;24H\\t\\, EVC_100Mo and WIFI_ Family _4MBPS** exhibits churn rates ranging from 11% to 15% which is relatively lower than others. This suggests that these packages might be more aligned with customer needs or offers better value proposition, leading to higher customer retention."
   ]
  },
  {
   "cell_type": "markdown",
   "metadata": {},
   "source": [
    "5) Do customers who have a higher number of on-net calls (ON_NET) exhibit lower churn rates, suggesting a correlation between on-net calling behavior and customer loyalty?"
   ]
  },
  {
   "cell_type": "code",
   "execution_count": null,
   "metadata": {},
   "outputs": [
    {
     "ename": "",
     "evalue": "",
     "output_type": "error",
     "traceback": [
      "\u001b[1;31mRunning cells with 'virtual_env (Python 3.10.9)' requires the ipykernel package.\n",
      "\u001b[1;31mRun the following command to install 'ipykernel' into the Python environment. \n",
      "\u001b[1;31mCommand: '\"c:/Users/TOSHIBA/OneDrive - Azubi Africa/Desktop/AZUBI/Churn capestone project/ChurnGuard-Project/virtual_env/Scripts/python.exe\" -m pip install ipykernel -U --force-reinstall'"
     ]
    }
   ],
   "source": [
    "# Group customers based on ON_NET usage\n",
    "on_net_groups = pd.cut(df_preprocessed['ON_NET'], bins=10)\n",
    "\n",
    "# Calculate churn rate for each group\n",
    "churn_rate_by_on_net = df_preprocessed.groupby(on_net_groups)['CHURN'].mean()\n",
    "\n",
    "# Plotting\n",
    "plt.figure(figsize=(10, 6))\n",
    "churn_rate_by_on_net.plot(kind='bar', color='skyblue')\n",
    "plt.title('Churn Rate by ON_NET Usage')\n",
    "plt.xlabel('ON_NET Usage Group')\n",
    "plt.ylabel('Churn Rate')\n",
    "plt.xticks(rotation=45)\n",
    "plt.grid(False)\n",
    "plt.show()\n",
    "\n"
   ]
  },
  {
   "cell_type": "markdown",
   "metadata": {},
   "source": [
    "**Insight📣**\n",
    "\n",
    "- Customers with ON_NET usage between (-50.809, 5080.9] have a churn rate of approximately 18.8%.\n",
    "- **As ON_NET usage increases, the churn rate decreases significantly.** For example, customers with ON_NET usage between (5080.9, 10161.8] have a churn rate of approximately 0.9%, and those with ON_NET usage between (10161.8, 15242.7] have a churn rate of approximately 0.8%.\n",
    "\n",
    "This suggests a correlation between higher ON_NET usage and lower churn rates, indicating that customers who make more on-net calls tend to exhibit higher loyalty and are less likely to churn."
   ]
  },
  {
   "cell_type": "markdown",
   "metadata": {},
   "source": [
    "6) Is there evidence to suggest that customers who regularly refill their accounts (FREQUENCE_RECH) have lower churn rates compared to those who refill less frequently, indicating a relationship between recharge frequency and churn propensity?"
   ]
  },
  {
   "cell_type": "code",
   "execution_count": null,
   "metadata": {},
   "outputs": [
    {
     "ename": "",
     "evalue": "",
     "output_type": "error",
     "traceback": [
      "\u001b[1;31mRunning cells with 'virtual_env (Python 3.10.9)' requires the ipykernel package.\n",
      "\u001b[1;31mRun the following command to install 'ipykernel' into the Python environment. \n",
      "\u001b[1;31mCommand: '\"c:/Users/TOSHIBA/OneDrive - Azubi Africa/Desktop/AZUBI/Churn capestone project/ChurnGuard-Project/virtual_env/Scripts/python.exe\" -m pip install ipykernel -U --force-reinstall'"
     ]
    }
   ],
   "source": [
    "# Group customers based on recharge frequency\n",
    "bins = pd.interval_range(start=0, end=110, freq=10)\n",
    "grouped = df_preprocessed.groupby(pd.cut(df_preprocessed['FREQUENCE_RECH'], bins))\n",
    "\n",
    "# Calculate churn rate for each group\n",
    "churn_rates = grouped['CHURN'].mean()\n",
    "\n",
    "# Plotting\n",
    "plt.figure(figsize=(10, 6))\n",
    "sns.barplot(x=churn_rates.index.astype(str), y=churn_rates.values, palette='viridis')\n",
    "plt.title('Churn Rate by Recharge Frequency')\n",
    "plt.xlabel('Recharge Frequency')\n",
    "plt.ylabel('Churn Rate')\n",
    "plt.xticks(rotation=45)\n",
    "plt.show()"
   ]
  },
  {
   "cell_type": "markdown",
   "metadata": {},
   "source": [
    "**Insight📣**\n",
    "\n",
    "- Customers with recharge frequencies between 0 and 10 have a churn rate of approximately 24.1%.\n",
    "- As recharge frequency increases, the churn rate generally decreases. For example, customers with recharge frequencies between 10 and 20 have a churn rate of approximately 1.9%, and customers with frequencies between 20 and 30 have a churn rate of approximately 1.2%.\n",
    "- There is a slight increase in churn rate for customers with recharge frequencies between 70 and 90, but this may be due to the smaller sample size in these ranges.\n",
    "\n",
    "Overall, evidence suggesting that customers who regularly refill their accounts have lower churn rates compared to those who refill less frequently."
   ]
  },
  {
   "cell_type": "markdown",
   "metadata": {},
   "source": [
    "7) Is there a correlation between the top-up amount (MONTANT) and churn rates, and do customers with higher or lower top-up amounts demonstrate different churn behaviors?"
   ]
  },
  {
   "cell_type": "code",
   "execution_count": null,
   "metadata": {},
   "outputs": [
    {
     "ename": "",
     "evalue": "",
     "output_type": "error",
     "traceback": [
      "\u001b[1;31mRunning cells with 'virtual_env (Python 3.10.9)' requires the ipykernel package.\n",
      "\u001b[1;31mRun the following command to install 'ipykernel' into the Python environment. \n",
      "\u001b[1;31mCommand: '\"c:/Users/TOSHIBA/OneDrive - Azubi Africa/Desktop/AZUBI/Churn capestone project/ChurnGuard-Project/virtual_env/Scripts/python.exe\" -m pip install ipykernel -U --force-reinstall'"
     ]
    }
   ],
   "source": [
    "# Define the bins for grouping MONTANT\n",
    "bins = [0, 1000, 2000, 3000, 4000, 5000, 6000, 7000, 8000, 9000, 10000]\n",
    "\n",
    "# Group customers based on MONTANT and calculate churn rate for each group\n",
    "df_preprocessed['MONTANT_GROUP'] = pd.cut(df_preprocessed['MONTANT'], bins=bins)\n",
    "churn_rate_by_montant = df_preprocessed.groupby('MONTANT_GROUP')['CHURN'].mean()\n",
    "\n",
    "# Plot the churn rate by MONTANT\n",
    "plt.figure(figsize=(10, 6))\n",
    "churn_rate_by_montant.plot(kind='bar', color='skyblue')\n",
    "plt.title('Churn Rate by Top-Up Amount (MONTANT)')\n",
    "plt.xlabel('Top-Up Amount (MONTANT)')\n",
    "plt.ylabel('Churn Rate')\n",
    "plt.xticks(rotation=45)\n",
    "plt.grid(False)\n",
    "plt.tight_layout()\n",
    "plt.show()"
   ]
  },
  {
   "cell_type": "markdown",
   "metadata": {},
   "source": [
    "**Insight📣**\n",
    "\n",
    "- **Inverted U-shaped Relationship:** There seems to be an inverted U-shaped relationship between MONTANT and churn rates. Churn rates are relatively low for both lower and higher MONTANT groups, while the group with MONTANT between 2000 and 3000 exhibits a significantly higher churn rate.\n",
    "- **Threshold Effect:** The group with MONTANT between 2000 and 3000 stands out with a disproportionately higher churn rate compared to neighboring groups. This suggests that there might be a threshold effect, where customers who top up within this range are more likely to churn compared to those with lower or higher top-up amounts.\n",
    "- **Churn Behavior Patterns:** Customers with very low MONTANT (0-1000) demonstrate a relatively higher churn rate compared to those with slightly higher MONTANT (1000-2000). However, as the MONTANT increases beyond 2000, the churn rate gradually decreases, indicating that customers who top up with larger amounts are less likely to churn.\n",
    "\n",
    "Generally, The churn rate tends to vary across different top-up amount groups, with higher top-up amounts generally associated with lower churn rates. However, there is an exception for the MONTANT group between 2000 and 3000, which has a notably higher churn rate compared to other groups.\n",
    "\n",
    "Based on these insights, the Expresso could potentially segment its customer base by MONTANT ranges to tailor retention strategies more effectively. For instance, customers in the 2000-3000 MONTANT range might require special attention and targeted retention efforts due to their higher propensity to churn. Similarly, customers in other MONTANT ranges could be approached differently based on their churn behavior patterns.\n"
   ]
  },
  {
   "cell_type": "markdown",
   "metadata": {},
   "source": [
    "## Hypothesis Testing"
   ]
  },
  {
   "cell_type": "code",
   "execution_count": null,
   "metadata": {},
   "outputs": [
    {
     "ename": "",
     "evalue": "",
     "output_type": "error",
     "traceback": [
      "\u001b[1;31mRunning cells with 'virtual_env (Python 3.10.9)' requires the ipykernel package.\n",
      "\u001b[1;31mRun the following command to install 'ipykernel' into the Python environment. \n",
      "\u001b[1;31mCommand: '\"c:/Users/TOSHIBA/OneDrive - Azubi Africa/Desktop/AZUBI/Churn capestone project/ChurnGuard-Project/virtual_env/Scripts/python.exe\" -m pip install ipykernel -U --force-reinstall'"
     ]
    }
   ],
   "source": [
    "import pandas as pd\n",
    "from scipy.stats import chi2_contingency\n",
    "\n",
    "# Create a contingency table of churn and region\n",
    "contingency_table = pd.crosstab(df_preprocessed['CHURN'], df_preprocessed['REGION'])\n",
    "\n",
    "# Perform chi-square test\n",
    "chi2, p, dof, expected = chi2_contingency(contingency_table)\n",
    "\n",
    "# Print the test statistic and p-value\n",
    "print(\"Chi-Square Statistic:\", chi2)\n",
    "print(\"P-value:\", p)\n",
    "\n",
    "# Define significance level\n",
    "alpha = 0.05\n",
    "\n",
    "# Check the p-value against the significance level\n",
    "if p < alpha:\n",
    "    print(\"Reject the null hypothesis.\")\n",
    "else:\n",
    "    print(\"Fail to reject the null hypothesis.\")\n"
   ]
  },
  {
   "cell_type": "markdown",
   "metadata": {},
   "source": [
    "**Insight📣**: There is no significant difference in churn rates between different geographic regions"
   ]
  },
  {
   "cell_type": "markdown",
   "metadata": {},
   "source": [
    "## Data Preparation"
   ]
  },
  {
   "cell_type": "markdown",
   "metadata": {},
   "source": [
    "Split data into input (x) and target (y) features"
   ]
  },
  {
   "cell_type": "code",
   "execution_count": null,
   "metadata": {},
   "outputs": [
    {
     "ename": "",
     "evalue": "",
     "output_type": "error",
     "traceback": [
      "\u001b[1;31mRunning cells with 'virtual_env (Python 3.10.9)' requires the ipykernel package.\n",
      "\u001b[1;31mRun the following command to install 'ipykernel' into the Python environment. \n",
      "\u001b[1;31mCommand: '\"c:/Users/TOSHIBA/OneDrive - Azubi Africa/Desktop/AZUBI/Churn capestone project/ChurnGuard-Project/virtual_env/Scripts/python.exe\" -m pip install ipykernel -U --force-reinstall'"
     ]
    }
   ],
   "source": [
    "# Drop unnecessary columns and split the data\n",
    "X = df.drop(['CHURN'], axis=1)  # Features\n",
    "y = df['CHURN']  # Target variable\n",
    "\n",
    "# Split the data into training and testing sets\n",
    "X_train, X_test, y_train, y_test = train_test_split(X, y, test_size=0.3,  stratify=y, random_state=42)"
   ]
  },
  {
   "cell_type": "code",
   "execution_count": null,
   "metadata": {},
   "outputs": [
    {
     "ename": "",
     "evalue": "",
     "output_type": "error",
     "traceback": [
      "\u001b[1;31mRunning cells with 'virtual_env (Python 3.10.9)' requires the ipykernel package.\n",
      "\u001b[1;31mRun the following command to install 'ipykernel' into the Python environment. \n",
      "\u001b[1;31mCommand: '\"c:/Users/TOSHIBA/OneDrive - Azubi Africa/Desktop/AZUBI/Churn capestone project/ChurnGuard-Project/virtual_env/Scripts/python.exe\" -m pip install ipykernel -U --force-reinstall'"
     ]
    }
   ],
   "source": [
    "# Print the shapes of the train and validation sets\n",
    "print(\"X_train shape:\", X_train.shape)\n",
    "print(\"y_train shape:\", y_train.shape)\n",
    "print(\"X_test shape:\", X_test.shape)\n",
    "print(\"y_test shape:\", y_test.shape)"
   ]
  },
  {
   "cell_type": "markdown",
   "metadata": {},
   "source": [
    "### Feature Engineering"
   ]
  },
  {
   "cell_type": "code",
   "execution_count": null,
   "metadata": {},
   "outputs": [
    {
     "ename": "",
     "evalue": "",
     "output_type": "error",
     "traceback": [
      "\u001b[1;31mRunning cells with 'virtual_env (Python 3.10.9)' requires the ipykernel package.\n",
      "\u001b[1;31mRun the following command to install 'ipykernel' into the Python environment. \n",
      "\u001b[1;31mCommand: '\"c:/Users/TOSHIBA/OneDrive - Azubi Africa/Desktop/AZUBI/Churn capestone project/ChurnGuard-Project/virtual_env/Scripts/python.exe\" -m pip install ipykernel -U --force-reinstall'"
     ]
    }
   ],
   "source": [
    "X.info()"
   ]
  },
  {
   "cell_type": "code",
   "execution_count": null,
   "metadata": {},
   "outputs": [
    {
     "ename": "",
     "evalue": "",
     "output_type": "error",
     "traceback": [
      "\u001b[1;31mRunning cells with 'virtual_env (Python 3.10.9)' requires the ipykernel package.\n",
      "\u001b[1;31mRun the following command to install 'ipykernel' into the Python environment. \n",
      "\u001b[1;31mCommand: '\"c:/Users/TOSHIBA/OneDrive - Azubi Africa/Desktop/AZUBI/Churn capestone project/ChurnGuard-Project/virtual_env/Scripts/python.exe\" -m pip install ipykernel -U --force-reinstall'"
     ]
    }
   ],
   "source": [
    "# Drop irrelevant columns ('user_id' and 'MRG')\n",
    "X = X.drop(['user_id', 'MRG'], axis=1)\n",
    "\n",
    "# Verify\n",
    "X.info()"
   ]
  },
  {
   "cell_type": "code",
   "execution_count": null,
   "metadata": {},
   "outputs": [
    {
     "ename": "",
     "evalue": "",
     "output_type": "error",
     "traceback": [
      "\u001b[1;31mRunning cells with 'virtual_env (Python 3.10.9)' requires the ipykernel package.\n",
      "\u001b[1;31mRun the following command to install 'ipykernel' into the Python environment. \n",
      "\u001b[1;31mCommand: '\"c:/Users/TOSHIBA/OneDrive - Azubi Africa/Desktop/AZUBI/Churn capestone project/ChurnGuard-Project/virtual_env/Scripts/python.exe\" -m pip install ipykernel -U --force-reinstall'"
     ]
    }
   ],
   "source": [
    "X_num_cols = X.select_dtypes(include=np.number).columns\n",
    "\n",
    "X_cat_cols = X.select_dtypes(include=['object']).columns\n",
    "\n",
    "# Verify changes\n",
    "print(\"Categorical Variables:\")\n",
    "print(X_cat_cols)\n",
    "print(\"Numerical Variables:\")\n",
    "print(X_num_cols)"
   ]
  },
  {
   "cell_type": "markdown",
   "metadata": {},
   "source": [
    "### Label Encoder"
   ]
  },
  {
   "cell_type": "code",
   "execution_count": null,
   "metadata": {},
   "outputs": [
    {
     "ename": "",
     "evalue": "",
     "output_type": "error",
     "traceback": [
      "\u001b[1;31mRunning cells with 'virtual_env (Python 3.10.9)' requires the ipykernel package.\n",
      "\u001b[1;31mRun the following command to install 'ipykernel' into the Python environment. \n",
      "\u001b[1;31mCommand: '\"c:/Users/TOSHIBA/OneDrive - Azubi Africa/Desktop/AZUBI/Churn capestone project/ChurnGuard-Project/virtual_env/Scripts/python.exe\" -m pip install ipykernel -U --force-reinstall'"
     ]
    }
   ],
   "source": [
    "# Fit and transform the label encoder on y_train\n",
    "# label_encoder = LabelEncoder()\n",
    "# y_train_encoded = label_encoder.fit_transform(y_train)\n",
    "# y_test_encoded = label_encoder.transform(y_test)"
   ]
  },
  {
   "cell_type": "markdown",
   "metadata": {},
   "source": [
    "#### Creating a pipeline"
   ]
  },
  {
   "cell_type": "code",
   "execution_count": null,
   "metadata": {},
   "outputs": [
    {
     "ename": "",
     "evalue": "",
     "output_type": "error",
     "traceback": [
      "\u001b[1;31mRunning cells with 'virtual_env (Python 3.10.9)' requires the ipykernel package.\n",
      "\u001b[1;31mRun the following command to install 'ipykernel' into the Python environment. \n",
      "\u001b[1;31mCommand: '\"c:/Users/TOSHIBA/OneDrive - Azubi Africa/Desktop/AZUBI/Churn capestone project/ChurnGuard-Project/virtual_env/Scripts/python.exe\" -m pip install ipykernel -U --force-reinstall'"
     ]
    }
   ],
   "source": [
    "# LogTransformer class\n",
    "class LogTransformer:\n",
    "    def __init__(self, constant=1):\n",
    "        self.constant = constant\n",
    " \n",
    "    def transform(self, X_train):\n",
    "        return np.log1p(X_train + self.constant)\n",
    " \n",
    " \n",
    "# Numerical transformer with LogTransformer\n",
    "numerical_pipeline = Pipeline(steps=[\n",
    "    ('num_imputer', SimpleImputer(strategy='median')),\n",
    "    ('log_transform', FunctionTransformer(LogTransformer().transform)),\n",
    "    ('scaler', StandardScaler())\n",
    "])\n",
    "  \n",
    "# Categorical transformer\n",
    "categorical_pipeline = Pipeline(steps=[\n",
    "    ('cat_imputer', SimpleImputer(strategy='most_frequent')),\n",
    "    ('cat_encoder', OneHotEncoder(handle_unknown='ignore'))\n",
    "])\n",
    " \n",
    " \n",
    "# Combine transformers\n",
    "preprocessor = ColumnTransformer(\n",
    "    transformers=[\n",
    "        ('num', numerical_pipeline, X_num_cols),\n",
    "        ('cat', categorical_pipeline, X_cat_cols)\n",
    "    ])"
   ]
  },
  {
   "cell_type": "markdown",
   "metadata": {},
   "source": [
    "## Modelling and Evaluation"
   ]
  },
  {
   "cell_type": "markdown",
   "metadata": {},
   "source": [
    "#### Train and Compare Models - Unbalanced"
   ]
  },
  {
   "cell_type": "code",
   "execution_count": null,
   "metadata": {},
   "outputs": [
    {
     "ename": "",
     "evalue": "",
     "output_type": "error",
     "traceback": [
      "\u001b[1;31mRunning cells with 'virtual_env (Python 3.10.9)' requires the ipykernel package.\n",
      "\u001b[1;31mRun the following command to install 'ipykernel' into the Python environment. \n",
      "\u001b[1;31mCommand: '\"c:/Users/TOSHIBA/OneDrive - Azubi Africa/Desktop/AZUBI/Churn capestone project/ChurnGuard-Project/virtual_env/Scripts/python.exe\" -m pip install ipykernel -U --force-reinstall'"
     ]
    }
   ],
   "source": [
    "# List of models to evaluate\n",
    "models = [\n",
    "    ('tree_classifier', DecisionTreeClassifier(random_state=42)),\n",
    "    ('logistic_classifier', LogisticRegression(random_state=42)),\n",
    "    ('K-nearest_classifier', KNeighborsClassifier()),\n",
    "    ('svm_classifier', SVC(random_state=42, probability=True)),\n",
    "    ('sgd_classifier', SGDClassifier(random_state=42)),\n",
    "    ('rf_classifier', RandomForestClassifier(random_state=42))\n",
    "]\n",
    "\n",
    "# Iterate through models\n",
    "for model_name, classifier in models:\n",
    "    pipeline = Pipeline(steps=[\n",
    "        ('preprocessor', preprocessor),\n",
    "        ('classifier', classifier)                \n",
    "    ])\n",
    "    \n",
    "    # Train the model\n",
    "    pipeline.fit(X_train, y_train)\n",
    "\n",
    "    # Make predictions\n",
    "    y_pred = pipeline.predict(X_test)\n",
    "\n",
    "    # Print classification report\n",
    "    print(f'Report for {model_name}')\n",
    "    print(classification_report(y_test, y_pred))\n",
    "    print('=' * 58)"
   ]
  },
  {
   "cell_type": "markdown",
   "metadata": {},
   "source": [
    "#### Train and Compare Models - Balanced"
   ]
  },
  {
   "cell_type": "code",
   "execution_count": null,
   "metadata": {},
   "outputs": [
    {
     "ename": "",
     "evalue": "",
     "output_type": "error",
     "traceback": [
      "\u001b[1;31mRunning cells with 'virtual_env (Python 3.10.9)' requires the ipykernel package.\n",
      "\u001b[1;31mRun the following command to install 'ipykernel' into the Python environment. \n",
      "\u001b[1;31mCommand: '\"c:/Users/TOSHIBA/OneDrive - Azubi Africa/Desktop/AZUBI/Churn capestone project/ChurnGuard-Project/virtual_env/Scripts/python.exe\" -m pip install ipykernel -U --force-reinstall'"
     ]
    }
   ],
   "source": [
    "# Initialize SMOTE for oversampling the minority class\n",
    "smote = SMOTE(random_state=42)\n",
    "\n",
    "# List of models to evaluate\n",
    "models = [\n",
    "    ('tree_classifier', DecisionTreeClassifier(random_state=42)),\n",
    "    ('logistic_classifier', LogisticRegression(random_state=42)),\n",
    "    ('K-nearest_classifier', KNeighborsClassifier()),\n",
    "    ('svm_classifier', SVC(random_state=42, probability=True)),\n",
    "    ('sgd_classifier', SGDClassifier(random_state=42)),\n",
    "    ('rf_classifier', RandomForestClassifier(random_state=42))\n",
    "]\n",
    "# Iterate through models and apply SMOTE within the pipeline\n",
    "for model_name, classifier in models:\n",
    "    pipeline = impipeline(steps=[\n",
    "        ('preprocessor', preprocessor),\n",
    "        ('smote', SMOTE(random_state=42)),\n",
    "        ('classifier', classifier)                \n",
    "    ])\n",
    "    \n",
    "    # Train the model\n",
    "    pipeline.fit(X_train, y_train_encoded)\n",
    "\n",
    "    # Make predictions\n",
    "    y_pred = pipeline.predict(X_test)\n",
    "\n",
    "    # Print classification report\n",
    "    print(f'Report for {model_name}')\n",
    "    print(classification_report(y_test_encoded, y_pred))\n",
    "    print('=' * 58)"
   ]
  },
  {
   "cell_type": "markdown",
   "metadata": {},
   "source": [
    "### Feature Importance and Selection "
   ]
  },
  {
   "cell_type": "code",
   "execution_count": null,
   "metadata": {},
   "outputs": [
    {
     "ename": "",
     "evalue": "",
     "output_type": "error",
     "traceback": [
      "\u001b[1;31mRunning cells with 'virtual_env (Python 3.10.9)' requires the ipykernel package.\n",
      "\u001b[1;31mRun the following command to install 'ipykernel' into the Python environment. \n",
      "\u001b[1;31mCommand: '\"c:/Users/TOSHIBA/OneDrive - Azubi Africa/Desktop/AZUBI/Churn capestone project/ChurnGuard-Project/virtual_env/Scripts/python.exe\" -m pip install ipykernel -U --force-reinstall'"
     ]
    }
   ],
   "source": [
    "# Initialize SelectKBest for feature selection and setting the number of features\n",
    "selection = SelectKBest(score_func=partial(mutual_info_classif, random_state=42), k=15)\n",
    "\n",
    "\n",
    "# List of models to evaluate\n",
    "models = [\n",
    "    ('tree_classifier', DecisionTreeClassifier(random_state=42)),\n",
    "    ('logistic_classifier', LogisticRegression(random_state=42)),\n",
    "    ('K-nearest_classifier', KNeighborsClassifier()),\n",
    "    ('svm_classifier', SVC(random_state=42, probability=True)),\n",
    "    ('sgd_classifier', SGDClassifier(loss='log_loss', random_state=42)),\n",
    "    ('rf_classifier', RandomForestClassifier(random_state=42))\n",
    "]\n",
    "all_pipeline = {}\n",
    "\n",
    "# Iterate through models and apply SMOTE within the pipeline\n",
    "for model_name, classifier in models:\n",
    "    pipeline = impipeline(steps=[\n",
    "        ('preprocessor', preprocessor),\n",
    "        ('smote', SMOTE(random_state=42)),\n",
    "        ('feature_importance', selection),\n",
    "        ('classifier', classifier)                \n",
    "    ])\n",
    "    \n",
    "    # Train the model\n",
    "    pipeline.fit(X_train, y_train_encoded)\n",
    "\n",
    "    all_pipeline[model_name] = pipeline\n",
    "\n",
    "    # Make predictions\n",
    "    y_pred = pipeline.predict(X_test)\n",
    "\n",
    "    # Print classification report\n",
    "    print(f'Report for {model_name}')\n",
    "    print(classification_report(y_test_encoded, y_pred))\n",
    "    print('=' * 58)"
   ]
  },
  {
   "cell_type": "markdown",
   "metadata": {},
   "source": []
  },
  {
   "cell_type": "code",
   "execution_count": null,
   "metadata": {},
   "outputs": [
    {
     "ename": "",
     "evalue": "",
     "output_type": "error",
     "traceback": [
      "\u001b[1;31mRunning cells with 'virtual_env (Python 3.10.9)' requires the ipykernel package.\n",
      "\u001b[1;31mRun the following command to install 'ipykernel' into the Python environment. \n",
      "\u001b[1;31mCommand: '\"c:/Users/TOSHIBA/OneDrive - Azubi Africa/Desktop/AZUBI/Churn capestone project/ChurnGuard-Project/virtual_env/Scripts/python.exe\" -m pip install ipykernel -U --force-reinstall'"
     ]
    }
   ],
   "source": []
  },
  {
   "cell_type": "code",
   "execution_count": null,
   "metadata": {},
   "outputs": [
    {
     "ename": "",
     "evalue": "",
     "output_type": "error",
     "traceback": [
      "\u001b[1;31mRunning cells with 'virtual_env (Python 3.10.9)' requires the ipykernel package.\n",
      "\u001b[1;31mRun the following command to install 'ipykernel' into the Python environment. \n",
      "\u001b[1;31mCommand: '\"c:/Users/TOSHIBA/OneDrive - Azubi Africa/Desktop/AZUBI/Churn capestone project/ChurnGuard-Project/virtual_env/Scripts/python.exe\" -m pip install ipykernel -U --force-reinstall'"
     ]
    }
   ],
   "source": []
  }
 ],
 "metadata": {
  "kernelspec": {
   "display_name": "Virtual_environment",
   "language": "python",
   "name": "python3"
  },
  "language_info": {
   "codemirror_mode": {
    "name": "ipython",
    "version": 3
   },
   "file_extension": ".py",
   "mimetype": "text/x-python",
   "name": "python",
   "nbconvert_exporter": "python",
   "pygments_lexer": "ipython3",
   "version": "3.10.9"
  }
 },
 "nbformat": 4,
 "nbformat_minor": 2
}
